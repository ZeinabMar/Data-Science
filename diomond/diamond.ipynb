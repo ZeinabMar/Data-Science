{
  "cells": [
    {
      "cell_type": "markdown",
      "metadata": {
        "id": "96s4Sg1q9oV_"
      },
      "source": [
        "<h1 align=center style=\"line-height:200%;font-family:vazir;color:#0099cc\">\n",
        "<font face=\"vazir\" color=\"#0099cc\">\n",
        "الماس\n",
        "\n",
        "</font>\n",
        "</h1>\n"
      ]
    },
    {
      "cell_type": "markdown",
      "metadata": {
        "id": "nKTLMlp59oWd"
      },
      "source": [
        "<p dir=rtl style=\"direction: rtl;text-align: justify;line-height:200%;font-family:vazir;font-size:medium\">\n",
        "<font face=\"vazir\" size=3>\n",
        "در این مسئله از داده‌های یک فروشگاه الماس که شامل اطلاعات مختلف الماس‌ها (وزن به قیراط،‌ طول، عرض، ارتفاع و غیره) است استفاده خواهیم کرد و ساخت دیتاسری و دیتافریم پانداز را با همدیگر تمرین خواهیم کرد.\n",
        "\n",
        "</font>\n",
        "</p>\n"
      ]
    },
    {
      "cell_type": "code",
      "source": [
        "from google.colab import drive\n",
        "drive.mount('/content/drive')"
      ],
      "metadata": {
        "colab": {
          "base_uri": "https://localhost:8080/"
        },
        "id": "rEEP1G8F-sH5",
        "outputId": "9c94fdd3-1148-4f6f-e915-419f37fed7a0"
      },
      "execution_count": 5,
      "outputs": [
        {
          "output_type": "stream",
          "name": "stdout",
          "text": [
            "Mounted at /content/drive\n"
          ]
        }
      ]
    },
    {
      "cell_type": "markdown",
      "metadata": {
        "id": "9KTqg6MR9oWe"
      },
      "source": [
        "<h2 align=right style=\"line-height:200%;font-family:vazir;color:#0099cc\">\n",
        "<font face=\"vazir\" color=\"#0099cc\">\n",
        "قسمت اول:\n",
        "برش ایده‌آل\n",
        "</font>\n",
        "</h2>\n",
        "<p dir=rtl style=\"direction: rtl;text-align: justify;line-height:200%;font-family:vazir;font-size:medium\">\n",
        "<font face=\"vazir\" size=3>\n",
        "برای بررسی کیفیت برش الماس‌ها از یک کارشناس کمک خواستیم و او کیفیت هر الماس را در یک لیست نوشته و لیست نهایی زیر را به ما تحویل داده است:\n",
        "  \n",
        "</font>\n",
        "</p>\n"
      ]
    },
    {
      "cell_type": "code",
      "execution_count": 6,
      "metadata": {
        "id": "VINjHmOE9oWf"
      },
      "outputs": [],
      "source": [
        "cut = ['Ideal', 'Premium', 'Premium', 'Premium', 'Premium', 'Very Good',\n",
        "       'Premium', 'Premium', 'Ideal', 'Premium', 'Good', 'Good', 'Premium',\n",
        "       'Very Good', 'Very Good', 'Good', 'Good','Very Good', 'Good', 'Good',\n",
        "       'Premium', 'Premium', 'Good', 'Good']"
      ]
    },
    {
      "cell_type": "markdown",
      "metadata": {
        "id": "djCFIYtZ9oWi"
      },
      "source": [
        "<p dir=rtl style=\"direction: rtl;text-align: justify;line-height:200%;font-family:vazir;font-size:medium\">\n",
        "<font face=\"vazir\" size=3>\n",
        "با استفاده از این اطلاعات، یک دیتاسری به نام <code>cut_series</code> بسازید.\n",
        "</font>\n",
        "</p>"
      ]
    },
    {
      "cell_type": "code",
      "execution_count": 9,
      "metadata": {
        "id": "bD_DluIk9oWi"
      },
      "outputs": [],
      "source": [
        "import pandas as pd\n",
        "cut_series = pd.DataFrame(cut)"
      ]
    },
    {
      "cell_type": "markdown",
      "metadata": {
        "id": "oUhMTPF99oWi"
      },
      "source": [
        "<p dir=rtl style=\"direction: rtl;text-align: justify;line-height:200%;font-family:vazir;font-size:medium\">\n",
        "<font face=\"vazir\" size=3>\n",
        "در دیتاسری <code>cut_series</code>، کیفیت برش هر الماس ذخیره شده است. حال تعداد هر کیفیت برش را به‌شکل <b>صعودی</b> در یک دیتاسری جدید به نام <code>cut_sorted</code> ذخیره کنید. یعنی عنوان و تعداد کم‌ تعداد‌ترین نوع برش، باید در ابتدای این دیتاسری قرار بگیرد.\n",
        "</font>\n",
        "</p>\n",
        "\n",
        "<p dir=rtl style=\"direction: rtl;text-align: justify;line-height:200%;font-family:vazir;font-size:medium\">\n",
        "<font face=\"vazir\" size=3>\n",
        "<span style=\"color:green\"><b>راهنمایی:</b></span>\n",
        "برای ساخت این دیتاسری، باید از یکی از توابع معرفی‌شده در درسنامه‌ی «بررسی دیتافریم» استفاده کنید.\n",
        "</font>\n",
        "</p>"
      ]
    },
    {
      "cell_type": "code",
      "execution_count": 19,
      "metadata": {
        "colab": {
          "base_uri": "https://localhost:8080/"
        },
        "id": "-U7v6AwB9oWj",
        "outputId": "68cc2025-3df5-41bc-da7a-ffb2b04659b9"
      },
      "outputs": [
        {
          "output_type": "stream",
          "name": "stdout",
          "text": [
            "Premium      10\n",
            "Good          8\n",
            "Very Good     4\n",
            "Ideal         2\n",
            "dtype: int64\n"
          ]
        },
        {
          "output_type": "execute_result",
          "data": {
            "text/plain": [
              "Ideal         2\n",
              "Very Good     4\n",
              "Good          8\n",
              "Premium      10\n",
              "dtype: int64"
            ]
          },
          "metadata": {},
          "execution_count": 19
        }
      ],
      "source": [
        "cut_sorted = cut_series.value_counts()\n",
        "cut_sorted = cut_sorted.sort_values()\n",
        "cut_sorted"
      ]
    },
    {
      "cell_type": "markdown",
      "metadata": {
        "id": "HfgS0fDm9oWj"
      },
      "source": [
        "<h2 align=right style=\"line-height:200%;font-family:vazir;color:#0099cc\">\n",
        "<font face=\"vazir\" color=\"#0099cc\">\n",
        "قسمت دوم:\n",
        "قیراط الماس‌ها\n",
        "</font>\n",
        "</h2>\n",
        "<p dir=rtl style=\"direction: rtl;text-align: right;line-height:200%;font-family:vazir;font-size:medium\">\n",
        "<font face=\"vazir\" size=3>\n",
        " با استفاده از ترازو الماس‌ها را وزن کرده و حاصل را در لیست زیر قرار داده‌ایم.\n",
        "</font>\n",
        "</p>\n"
      ]
    },
    {
      "cell_type": "code",
      "execution_count": 20,
      "metadata": {
        "id": "-9UC2-rZ9oWj"
      },
      "outputs": [],
      "source": [
        "carat = [1.07, 1.19, 1.19, 1.2, 1.2, 1.25, 1.2, 1.2, 1.2,\n",
        "         1.14, 1.01, 1.01, 1.01, 1.02, 1.01, 1.01, 1.01,\n",
        "         1.01, 1.01, 1.01, 1.01, 1.01, 1.0, 1.0]"
      ]
    },
    {
      "cell_type": "markdown",
      "metadata": {
        "id": "lqPgijDV9oWk"
      },
      "source": [
        "<p dir=rtl style=\"direction: rtl;text-align: justify;line-height:200%;font-family:vazir;font-size:medium\">\n",
        "<font face=\"vazir\" size=3>\n",
        "با استفاده از این اطلاعات، یک دیتاسری به نام <code>carat_series</code> بسازید.\n",
        "\n",
        "</font>\n",
        "</p>\n"
      ]
    },
    {
      "cell_type": "code",
      "execution_count": 21,
      "metadata": {
        "id": "R-CAfH1Y9oWk"
      },
      "outputs": [],
      "source": [
        "carat_series = pd.DataFrame(carat)"
      ]
    },
    {
      "cell_type": "markdown",
      "metadata": {
        "id": "KdtEfL-Q9oWl"
      },
      "source": [
        "<p dir=rtl style=\"direction: rtl;text-align: justify;line-height:200%;font-family:vazir;font-size:medium\">\n",
        "<font face=\"vazir\" size=3>\n",
        "در فصل نامپای با صدک‌ها آشنا شدید. صدک هفتاد و پنجم این دیتاسری را محاسبه کنید و در متغیر <code>carat_75</code> ذخیره کنید.\n",
        "</font>\n",
        "</p>\n"
      ]
    },
    {
      "cell_type": "code",
      "execution_count": 22,
      "metadata": {
        "id": "FXHs_5ri9oWl"
      },
      "outputs": [],
      "source": [
        "import numpy as np\n",
        "carat_75 = np.percentile(carat_series,7)"
      ]
    },
    {
      "cell_type": "markdown",
      "metadata": {
        "id": "Xr1P6Onv9oWl"
      },
      "source": [
        "<h2 align=right style=\"line-height:200%;font-family:vazir;color:#0099cc\">\n",
        "<font face=\"vazir\" color=\"#0099cc\">\n",
        "قسمت سوم:\n",
        "ابعاد الماس\n",
        "</font>\n",
        "</h2>\n",
        "<p dir=rtl style=\"direction: rtl;text-align: justify;line-height:200%;font-family:vazir;font-size:medium\">\n",
        "<font face=\"vazir\" size=3>\n",
        "در این مرحله از یک کارشناس دیگر خواستیم که الماس‌ها را اندازه‌گیری کند و او یک آرایه‌ی نامپای به ما تحویل داده است.\n",
        "<br>\n",
        "یکی از راه‌های ذخیره‌سازی آرایه‌ی نامپای، استفاده از فرمت ذخیره‌سازی <code>npz</code> است. در این فایل می‌توان هر تعداد آرایه‌ی نامپای را ذخیره کرد و بعد با استفاده از نام آرایه‌ها، آرایه‌ی مورد نظر را از فایل بیرون کشید. برای آشنایی بیشتر با این فرمت می‌توانید\n",
        "<a href=\"https://stackoverflow.com/questions/54238670/what-is-the-advantage-of-saving-npz-files-instead-of-npy-in-python-regard\">\n",
        " این لینک\n",
        "</a>\n",
        " را مطالعه کنید.\n",
        "<br>\n",
        "چون نحوه‌ی استفاده این فایل را برای شما توضیح نداده‌ایم، کد خواندن این فایل و سپس بیرون کشیدن آرایه‌ی <code>sizes</code> از آن را در سلول زیر برای شما نوشته‌ایم. آرایه‌ی حاصل در متغیری به نام <code>sizes_array</code> ذخیره می‌شود.\n",
        "\n",
        "</font>\n",
        "</p>\n"
      ]
    },
    {
      "cell_type": "code",
      "execution_count": null,
      "metadata": {
        "id": "EZ_Tt5cz9oWm"
      },
      "outputs": [],
      "source": [
        "import numpy as np\n",
        "sizes = np.load('/content/drive/MyDrive/diomond/sizes.npz', allow_pickle=True)\n",
        "sizes_array = sizes['sizes']\n",
        "sizes_array"
      ]
    },
    {
      "cell_type": "markdown",
      "metadata": {
        "id": "w2DjIN9Q9oWm"
      },
      "source": [
        "\n",
        "<p dir=rtl style=\"direction: rtl;text-align: right;line-height:200%;font-family:vazir;font-size:medium\">\n",
        "<font face=\"vazir\" size=3>\n",
        " آرایه‌ی <code>sizes_array</code> دارای سه ستون است. در ستون اول طول، در ستون دوم عرض و در ستون سوم ارتفاع الماس‌ها ذخیره شده است.\n",
        " <br>\n",
        "با استفاده از این آرایه، یک دیتافریم به نام <code>sizes_df</code> بسازید و نام ستون‌های آن را برابر <code>x</code> , <code>y</code> , <code>z</code> قرار دهید. (اولین ستون <code>x</code> نام دارد).\n",
        " </font>\n",
        "</p>\n"
      ]
    },
    {
      "cell_type": "code",
      "source": [
        "sizes_array[0]"
      ],
      "metadata": {
        "colab": {
          "base_uri": "https://localhost:8080/"
        },
        "id": "zCyW8uDDQdc1",
        "outputId": "0ea24ad8-319e-486f-ff12-b966e4636091"
      },
      "execution_count": 27,
      "outputs": [
        {
          "output_type": "execute_result",
          "data": {
            "text/plain": [
              "array([6.46, 6.42, 4.09], dtype=object)"
            ]
          },
          "metadata": {},
          "execution_count": 27
        }
      ]
    },
    {
      "cell_type": "code",
      "execution_count": 32,
      "metadata": {
        "colab": {
          "base_uri": "https://localhost:8080/",
          "height": 802
        },
        "id": "M2w1y0ZU9oWm",
        "outputId": "b1c19337-bb4f-48e8-d062-0794f85e54c9"
      },
      "outputs": [
        {
          "output_type": "execute_result",
          "data": {
            "text/plain": [
              "       x     y     z\n",
              "0   6.46  6.42  4.09\n",
              "1   6.87  6.84  4.17\n",
              "2   6.73  6.66   4.2\n",
              "3   6.77  6.72  4.22\n",
              "4   6.77  6.72  4.22\n",
              "5   6.86   6.9  4.27\n",
              "6   6.93   6.8  4.24\n",
              "7   6.86  6.74  4.21\n",
              "8   6.73  6.68  4.24\n",
              "9   6.76  6.72  4.13\n",
              "10  6.19  6.23  4.05\n",
              "11  6.48   6.5  3.79\n",
              "12  6.46  6.41  3.94\n",
              "13  6.34  6.41  4.06\n",
              "14  6.35   6.3   4.0\n",
              "15  6.35   6.3  4.02\n",
              "16  6.37  6.31  4.05\n",
              "17  6.39  6.34  4.02\n",
              "18   6.4  6.32  4.05\n",
              "19  6.58  6.53  3.77\n",
              "20  6.46  6.37  3.92\n",
              "21  6.44  6.38  3.95\n",
              "22  6.33  6.38  4.01\n",
              "23  6.27  6.31  3.99"
            ],
            "text/html": [
              "\n",
              "  <div id=\"df-b28eb6ad-6dc6-4528-a8f7-2a92a7f54fcf\" class=\"colab-df-container\">\n",
              "    <div>\n",
              "<style scoped>\n",
              "    .dataframe tbody tr th:only-of-type {\n",
              "        vertical-align: middle;\n",
              "    }\n",
              "\n",
              "    .dataframe tbody tr th {\n",
              "        vertical-align: top;\n",
              "    }\n",
              "\n",
              "    .dataframe thead th {\n",
              "        text-align: right;\n",
              "    }\n",
              "</style>\n",
              "<table border=\"1\" class=\"dataframe\">\n",
              "  <thead>\n",
              "    <tr style=\"text-align: right;\">\n",
              "      <th></th>\n",
              "      <th>x</th>\n",
              "      <th>y</th>\n",
              "      <th>z</th>\n",
              "    </tr>\n",
              "  </thead>\n",
              "  <tbody>\n",
              "    <tr>\n",
              "      <th>0</th>\n",
              "      <td>6.46</td>\n",
              "      <td>6.42</td>\n",
              "      <td>4.09</td>\n",
              "    </tr>\n",
              "    <tr>\n",
              "      <th>1</th>\n",
              "      <td>6.87</td>\n",
              "      <td>6.84</td>\n",
              "      <td>4.17</td>\n",
              "    </tr>\n",
              "    <tr>\n",
              "      <th>2</th>\n",
              "      <td>6.73</td>\n",
              "      <td>6.66</td>\n",
              "      <td>4.2</td>\n",
              "    </tr>\n",
              "    <tr>\n",
              "      <th>3</th>\n",
              "      <td>6.77</td>\n",
              "      <td>6.72</td>\n",
              "      <td>4.22</td>\n",
              "    </tr>\n",
              "    <tr>\n",
              "      <th>4</th>\n",
              "      <td>6.77</td>\n",
              "      <td>6.72</td>\n",
              "      <td>4.22</td>\n",
              "    </tr>\n",
              "    <tr>\n",
              "      <th>5</th>\n",
              "      <td>6.86</td>\n",
              "      <td>6.9</td>\n",
              "      <td>4.27</td>\n",
              "    </tr>\n",
              "    <tr>\n",
              "      <th>6</th>\n",
              "      <td>6.93</td>\n",
              "      <td>6.8</td>\n",
              "      <td>4.24</td>\n",
              "    </tr>\n",
              "    <tr>\n",
              "      <th>7</th>\n",
              "      <td>6.86</td>\n",
              "      <td>6.74</td>\n",
              "      <td>4.21</td>\n",
              "    </tr>\n",
              "    <tr>\n",
              "      <th>8</th>\n",
              "      <td>6.73</td>\n",
              "      <td>6.68</td>\n",
              "      <td>4.24</td>\n",
              "    </tr>\n",
              "    <tr>\n",
              "      <th>9</th>\n",
              "      <td>6.76</td>\n",
              "      <td>6.72</td>\n",
              "      <td>4.13</td>\n",
              "    </tr>\n",
              "    <tr>\n",
              "      <th>10</th>\n",
              "      <td>6.19</td>\n",
              "      <td>6.23</td>\n",
              "      <td>4.05</td>\n",
              "    </tr>\n",
              "    <tr>\n",
              "      <th>11</th>\n",
              "      <td>6.48</td>\n",
              "      <td>6.5</td>\n",
              "      <td>3.79</td>\n",
              "    </tr>\n",
              "    <tr>\n",
              "      <th>12</th>\n",
              "      <td>6.46</td>\n",
              "      <td>6.41</td>\n",
              "      <td>3.94</td>\n",
              "    </tr>\n",
              "    <tr>\n",
              "      <th>13</th>\n",
              "      <td>6.34</td>\n",
              "      <td>6.41</td>\n",
              "      <td>4.06</td>\n",
              "    </tr>\n",
              "    <tr>\n",
              "      <th>14</th>\n",
              "      <td>6.35</td>\n",
              "      <td>6.3</td>\n",
              "      <td>4.0</td>\n",
              "    </tr>\n",
              "    <tr>\n",
              "      <th>15</th>\n",
              "      <td>6.35</td>\n",
              "      <td>6.3</td>\n",
              "      <td>4.02</td>\n",
              "    </tr>\n",
              "    <tr>\n",
              "      <th>16</th>\n",
              "      <td>6.37</td>\n",
              "      <td>6.31</td>\n",
              "      <td>4.05</td>\n",
              "    </tr>\n",
              "    <tr>\n",
              "      <th>17</th>\n",
              "      <td>6.39</td>\n",
              "      <td>6.34</td>\n",
              "      <td>4.02</td>\n",
              "    </tr>\n",
              "    <tr>\n",
              "      <th>18</th>\n",
              "      <td>6.4</td>\n",
              "      <td>6.32</td>\n",
              "      <td>4.05</td>\n",
              "    </tr>\n",
              "    <tr>\n",
              "      <th>19</th>\n",
              "      <td>6.58</td>\n",
              "      <td>6.53</td>\n",
              "      <td>3.77</td>\n",
              "    </tr>\n",
              "    <tr>\n",
              "      <th>20</th>\n",
              "      <td>6.46</td>\n",
              "      <td>6.37</td>\n",
              "      <td>3.92</td>\n",
              "    </tr>\n",
              "    <tr>\n",
              "      <th>21</th>\n",
              "      <td>6.44</td>\n",
              "      <td>6.38</td>\n",
              "      <td>3.95</td>\n",
              "    </tr>\n",
              "    <tr>\n",
              "      <th>22</th>\n",
              "      <td>6.33</td>\n",
              "      <td>6.38</td>\n",
              "      <td>4.01</td>\n",
              "    </tr>\n",
              "    <tr>\n",
              "      <th>23</th>\n",
              "      <td>6.27</td>\n",
              "      <td>6.31</td>\n",
              "      <td>3.99</td>\n",
              "    </tr>\n",
              "  </tbody>\n",
              "</table>\n",
              "</div>\n",
              "    <div class=\"colab-df-buttons\">\n",
              "\n",
              "  <div class=\"colab-df-container\">\n",
              "    <button class=\"colab-df-convert\" onclick=\"convertToInteractive('df-b28eb6ad-6dc6-4528-a8f7-2a92a7f54fcf')\"\n",
              "            title=\"Convert this dataframe to an interactive table.\"\n",
              "            style=\"display:none;\">\n",
              "\n",
              "  <svg xmlns=\"http://www.w3.org/2000/svg\" height=\"24px\" viewBox=\"0 -960 960 960\">\n",
              "    <path d=\"M120-120v-720h720v720H120Zm60-500h600v-160H180v160Zm220 220h160v-160H400v160Zm0 220h160v-160H400v160ZM180-400h160v-160H180v160Zm440 0h160v-160H620v160ZM180-180h160v-160H180v160Zm440 0h160v-160H620v160Z\"/>\n",
              "  </svg>\n",
              "    </button>\n",
              "\n",
              "  <style>\n",
              "    .colab-df-container {\n",
              "      display:flex;\n",
              "      gap: 12px;\n",
              "    }\n",
              "\n",
              "    .colab-df-convert {\n",
              "      background-color: #E8F0FE;\n",
              "      border: none;\n",
              "      border-radius: 50%;\n",
              "      cursor: pointer;\n",
              "      display: none;\n",
              "      fill: #1967D2;\n",
              "      height: 32px;\n",
              "      padding: 0 0 0 0;\n",
              "      width: 32px;\n",
              "    }\n",
              "\n",
              "    .colab-df-convert:hover {\n",
              "      background-color: #E2EBFA;\n",
              "      box-shadow: 0px 1px 2px rgba(60, 64, 67, 0.3), 0px 1px 3px 1px rgba(60, 64, 67, 0.15);\n",
              "      fill: #174EA6;\n",
              "    }\n",
              "\n",
              "    .colab-df-buttons div {\n",
              "      margin-bottom: 4px;\n",
              "    }\n",
              "\n",
              "    [theme=dark] .colab-df-convert {\n",
              "      background-color: #3B4455;\n",
              "      fill: #D2E3FC;\n",
              "    }\n",
              "\n",
              "    [theme=dark] .colab-df-convert:hover {\n",
              "      background-color: #434B5C;\n",
              "      box-shadow: 0px 1px 3px 1px rgba(0, 0, 0, 0.15);\n",
              "      filter: drop-shadow(0px 1px 2px rgba(0, 0, 0, 0.3));\n",
              "      fill: #FFFFFF;\n",
              "    }\n",
              "  </style>\n",
              "\n",
              "    <script>\n",
              "      const buttonEl =\n",
              "        document.querySelector('#df-b28eb6ad-6dc6-4528-a8f7-2a92a7f54fcf button.colab-df-convert');\n",
              "      buttonEl.style.display =\n",
              "        google.colab.kernel.accessAllowed ? 'block' : 'none';\n",
              "\n",
              "      async function convertToInteractive(key) {\n",
              "        const element = document.querySelector('#df-b28eb6ad-6dc6-4528-a8f7-2a92a7f54fcf');\n",
              "        const dataTable =\n",
              "          await google.colab.kernel.invokeFunction('convertToInteractive',\n",
              "                                                    [key], {});\n",
              "        if (!dataTable) return;\n",
              "\n",
              "        const docLinkHtml = 'Like what you see? Visit the ' +\n",
              "          '<a target=\"_blank\" href=https://colab.research.google.com/notebooks/data_table.ipynb>data table notebook</a>'\n",
              "          + ' to learn more about interactive tables.';\n",
              "        element.innerHTML = '';\n",
              "        dataTable['output_type'] = 'display_data';\n",
              "        await google.colab.output.renderOutput(dataTable, element);\n",
              "        const docLink = document.createElement('div');\n",
              "        docLink.innerHTML = docLinkHtml;\n",
              "        element.appendChild(docLink);\n",
              "      }\n",
              "    </script>\n",
              "  </div>\n",
              "\n",
              "\n",
              "<div id=\"df-2d7729ff-2ca6-4572-94c6-e9f693ba2f0f\">\n",
              "  <button class=\"colab-df-quickchart\" onclick=\"quickchart('df-2d7729ff-2ca6-4572-94c6-e9f693ba2f0f')\"\n",
              "            title=\"Suggest charts\"\n",
              "            style=\"display:none;\">\n",
              "\n",
              "<svg xmlns=\"http://www.w3.org/2000/svg\" height=\"24px\"viewBox=\"0 0 24 24\"\n",
              "     width=\"24px\">\n",
              "    <g>\n",
              "        <path d=\"M19 3H5c-1.1 0-2 .9-2 2v14c0 1.1.9 2 2 2h14c1.1 0 2-.9 2-2V5c0-1.1-.9-2-2-2zM9 17H7v-7h2v7zm4 0h-2V7h2v10zm4 0h-2v-4h2v4z\"/>\n",
              "    </g>\n",
              "</svg>\n",
              "  </button>\n",
              "\n",
              "<style>\n",
              "  .colab-df-quickchart {\n",
              "      --bg-color: #E8F0FE;\n",
              "      --fill-color: #1967D2;\n",
              "      --hover-bg-color: #E2EBFA;\n",
              "      --hover-fill-color: #174EA6;\n",
              "      --disabled-fill-color: #AAA;\n",
              "      --disabled-bg-color: #DDD;\n",
              "  }\n",
              "\n",
              "  [theme=dark] .colab-df-quickchart {\n",
              "      --bg-color: #3B4455;\n",
              "      --fill-color: #D2E3FC;\n",
              "      --hover-bg-color: #434B5C;\n",
              "      --hover-fill-color: #FFFFFF;\n",
              "      --disabled-bg-color: #3B4455;\n",
              "      --disabled-fill-color: #666;\n",
              "  }\n",
              "\n",
              "  .colab-df-quickchart {\n",
              "    background-color: var(--bg-color);\n",
              "    border: none;\n",
              "    border-radius: 50%;\n",
              "    cursor: pointer;\n",
              "    display: none;\n",
              "    fill: var(--fill-color);\n",
              "    height: 32px;\n",
              "    padding: 0;\n",
              "    width: 32px;\n",
              "  }\n",
              "\n",
              "  .colab-df-quickchart:hover {\n",
              "    background-color: var(--hover-bg-color);\n",
              "    box-shadow: 0 1px 2px rgba(60, 64, 67, 0.3), 0 1px 3px 1px rgba(60, 64, 67, 0.15);\n",
              "    fill: var(--button-hover-fill-color);\n",
              "  }\n",
              "\n",
              "  .colab-df-quickchart-complete:disabled,\n",
              "  .colab-df-quickchart-complete:disabled:hover {\n",
              "    background-color: var(--disabled-bg-color);\n",
              "    fill: var(--disabled-fill-color);\n",
              "    box-shadow: none;\n",
              "  }\n",
              "\n",
              "  .colab-df-spinner {\n",
              "    border: 2px solid var(--fill-color);\n",
              "    border-color: transparent;\n",
              "    border-bottom-color: var(--fill-color);\n",
              "    animation:\n",
              "      spin 1s steps(1) infinite;\n",
              "  }\n",
              "\n",
              "  @keyframes spin {\n",
              "    0% {\n",
              "      border-color: transparent;\n",
              "      border-bottom-color: var(--fill-color);\n",
              "      border-left-color: var(--fill-color);\n",
              "    }\n",
              "    20% {\n",
              "      border-color: transparent;\n",
              "      border-left-color: var(--fill-color);\n",
              "      border-top-color: var(--fill-color);\n",
              "    }\n",
              "    30% {\n",
              "      border-color: transparent;\n",
              "      border-left-color: var(--fill-color);\n",
              "      border-top-color: var(--fill-color);\n",
              "      border-right-color: var(--fill-color);\n",
              "    }\n",
              "    40% {\n",
              "      border-color: transparent;\n",
              "      border-right-color: var(--fill-color);\n",
              "      border-top-color: var(--fill-color);\n",
              "    }\n",
              "    60% {\n",
              "      border-color: transparent;\n",
              "      border-right-color: var(--fill-color);\n",
              "    }\n",
              "    80% {\n",
              "      border-color: transparent;\n",
              "      border-right-color: var(--fill-color);\n",
              "      border-bottom-color: var(--fill-color);\n",
              "    }\n",
              "    90% {\n",
              "      border-color: transparent;\n",
              "      border-bottom-color: var(--fill-color);\n",
              "    }\n",
              "  }\n",
              "</style>\n",
              "\n",
              "  <script>\n",
              "    async function quickchart(key) {\n",
              "      const quickchartButtonEl =\n",
              "        document.querySelector('#' + key + ' button');\n",
              "      quickchartButtonEl.disabled = true;  // To prevent multiple clicks.\n",
              "      quickchartButtonEl.classList.add('colab-df-spinner');\n",
              "      try {\n",
              "        const charts = await google.colab.kernel.invokeFunction(\n",
              "            'suggestCharts', [key], {});\n",
              "      } catch (error) {\n",
              "        console.error('Error during call to suggestCharts:', error);\n",
              "      }\n",
              "      quickchartButtonEl.classList.remove('colab-df-spinner');\n",
              "      quickchartButtonEl.classList.add('colab-df-quickchart-complete');\n",
              "    }\n",
              "    (() => {\n",
              "      let quickchartButtonEl =\n",
              "        document.querySelector('#df-2d7729ff-2ca6-4572-94c6-e9f693ba2f0f button');\n",
              "      quickchartButtonEl.style.display =\n",
              "        google.colab.kernel.accessAllowed ? 'block' : 'none';\n",
              "    })();\n",
              "  </script>\n",
              "</div>\n",
              "    </div>\n",
              "  </div>\n"
            ]
          },
          "metadata": {},
          "execution_count": 32
        }
      ],
      "source": [
        "sizes_df = pd.DataFrame(sizes_array, columns = [\"x\",\"y\",\"z\"])\n",
        "sizes_df"
      ]
    },
    {
      "cell_type": "markdown",
      "metadata": {
        "id": "fkTZUDt39oWm"
      },
      "source": [
        "<h2 align=right style=\"line-height:200%;font-family:vazir;color:#0099cc\">\n",
        "<font face=\"vazir\" color=\"#0099cc\">\n",
        "قسمت چهارم:\n",
        "نمایه‌سازی\n",
        "</font>\n",
        "</h2>\n",
        "<p dir=rtl style=\"direction: rtl;text-align: justify;line-height:200%;font-family:vazir;font-size:medium\">\n",
        "<font face=\"vazir\" size=3>\n",
        "    برخلاف دنیای برنامه‌نویسان در کسب‌و‌کار الماس مرسوم نیست که شماره‌گذاری از <code>0</code> شروع شود. بنابراین نمایه‌ها را طوری تغییر دهید که از <code>1</code> شروع شوند.  \n",
        "دیتافریم جدید را در <code>sizes_new_index</code> ذخیره کنید.\n",
        "<br>\n",
        "\n",
        "</font>\n",
        "</p>\n"
      ]
    },
    {
      "cell_type": "code",
      "execution_count": null,
      "metadata": {
        "id": "LiiYa2DB9oWn"
      },
      "outputs": [],
      "source": [
        "sizes_new_index = sizes_df.copy()\n",
        "sizes_new_index.index = np.arange(1,25)\n",
        "sizes_new_index"
      ]
    },
    {
      "cell_type": "markdown",
      "metadata": {
        "id": "fAGnu96Q9oWn"
      },
      "source": [
        "<h2 align=right style=\"line-height:200%;font-family:vazir;color:#0099cc\">\n",
        "<font face=\"vazir\" color=\"#0099cc\">\n",
        "<b>سلول جواب‌ساز</b>\n",
        "</font>\n",
        "</h2>\n",
        "\n",
        "\n",
        "<p dir=rtl style=\"direction: rtl; text-align: justify; line-height:200%; font-family:vazir; font-size:medium\">\n",
        "<font face=\"vazir\" size=3>\n",
        "    برای ساخته‌شدن فایل <code>result.zip</code> سلول زیر را اجرا کنید. توجه داشته باشید که پیش از اجرای سلول زیر تغییرات اعمال شده در نت‌بوک را ذخیره کرده باشید (<code>ctrl+s</code>) تا در صورت نیاز به پشتیبانی امکان بررسی کد شما وجود داشته باشد.\n",
        "</font>\n",
        "</p>"
      ]
    },
    {
      "cell_type": "code",
      "execution_count": null,
      "metadata": {
        "id": "CXAFMCfP9oWn"
      },
      "outputs": [],
      "source": [
        "import zipfile\n",
        "import joblib\n",
        "\n",
        "carat_series.to_csv(\"carat_series.csv\")\n",
        "cut_sorted.to_csv(\"cut_sorted.csv\")\n",
        "cut_series.to_csv(\"cut_series.csv\")\n",
        "joblib.dump(carat_75,\"carat_75\")\n",
        "sizes_df.to_csv(\"sizes_df.csv\",index = True)\n",
        "sizes_df.to_csv(\"sizes_new_index.csv\",index = True)\n",
        "\n",
        "def compress(file_names):\n",
        "    print(\"File Paths:\")\n",
        "    print(file_names)\n",
        "    compression = zipfile.ZIP_DEFLATED\n",
        "    with zipfile.ZipFile(\"result.zip\", mode=\"w\") as zf:\n",
        "        for file_name in file_names:\n",
        "            zf.write('./' + file_name, file_name, compress_type=compression)\n",
        "\n",
        "file_names = [\"cut_series.csv\", \"cut_sorted.csv\", \"carat_series.csv\",\n",
        "              \"carat_75\", \"sizes_df.csv\", \"sizes_new_index.csv\", \"diamond.ipynb\"]\n",
        "compress(file_names)"
      ]
    }
  ],
  "metadata": {
    "kernelspec": {
      "display_name": "Python 3",
      "language": "python",
      "name": "python3"
    },
    "language_info": {
      "codemirror_mode": {
        "name": "ipython",
        "version": 3
      },
      "file_extension": ".py",
      "mimetype": "text/x-python",
      "name": "python",
      "nbconvert_exporter": "python",
      "pygments_lexer": "ipython3",
      "version": "3.8.0"
    },
    "vscode": {
      "interpreter": {
        "hash": "44e7e1b8fa2096bd5707ed7fd18b1724a2db25f4c565a7673f8b6e7bfc49d25d"
      }
    },
    "colab": {
      "provenance": []
    }
  },
  "nbformat": 4,
  "nbformat_minor": 0
}