{
 "cells": [
  {
   "attachments": {},
   "cell_type": "markdown",
   "id": "7f592a97",
   "metadata": {
    "id": "dbd55073"
   },
   "source": [
    "<h1 align=center style=\"line-height:200%;font-family:vazir;color:#0099cc\">\n",
    "<font face=\"vazir\" color=\"#0099cc\">\n",
    "پیش‌پردازش\n",
    "</font>\n",
    "</h1>\n",
    "\n",
    "<p dir=rtl style=\"direction: rtl;text-align: justify;line-height:200%;font-family:vazir;font-size:medium\">\n",
    "<font face=\"vazir\" size=3>\n",
    "    در نخستین گام از پروژه‌ی نهایی یک سری مراحل پیش‌پردازش را بر روی داده‌ها اعمال خواهید کرد تا مجموعه‌داده‌ی باکیفیت‌تری را برای مراحل بعدی پروژه آماده کنید. علاوه بر این طبق همین مراحل به چند پرسش تحلیلی هم پاسخ خواهید داد.\n",
    "</font>\n",
    "</p>"
   ]
  },
  {
   "attachments": {},
   "cell_type": "markdown",
   "id": "3c0ee8dc",
   "metadata": {
    "id": "ff28bfde"
   },
   "source": [
    "   \n",
    "<h2 align=right style=\"line-height:200%;font-family:vazir;color:#0099cc\">\n",
    "<font face=\"vazir\" color=\"#0099cc\">\n",
    "کتابخانه‌ها\n",
    "</font>\n",
    "</h2>\n",
    "\n",
    "<p dir=rtl style=\"direction: rtl;text-align: right;line-height:200%;font-family:vazir;font-size:medium\">\n",
    "<font face=\"vazir\" size=3>\n",
    "       ابتدا کتابخانه‌های مورد نیاز خود را فرا بخوانید.\n",
    "</font>\n",
    "</p>"
   ]
  },
  {
   "cell_type": "code",
   "execution_count": null,
   "id": "d171f8a8",
   "metadata": {
    "id": "4a1c31c4"
   },
   "outputs": [],
   "source": [
    "# import libraries"
   ]
  },
  {
   "attachments": {},
   "cell_type": "markdown",
   "id": "5f967579",
   "metadata": {
    "id": "76c16791"
   },
   "source": [
    "\n",
    "<h2 align=right style=\"line-height:200%;font-family:vazir;color:#0099cc\">\n",
    "<font face=\"vazir\" color=\"#0099cc\">\n",
    "مجموعه‌داده\n",
    "</font>\n",
    "</h2>\n",
    "\n",
    "\n",
    "\n",
    "<p dir=rtl style=\"direction: rtl;text-align: justify;line-height:200%;font-family:vazir;font-size:medium\">\n",
    "<font face=\"vazir\" size=3>\n",
    "    داده‌های این پروژه به‌صورت یک فایل اکسل در فایلی به نام <code>sales.xlsx</code> در اختیار شما قرار گرفته و توضیحات ستون‌های مجموعه‌داده در جدول زیر آمده است. در ابتدا این داده‌ها را در قالب یک دیتافریم بخوانید.\n",
    "</font>\n",
    "</p>\n",
    "\n",
    "<center>\n",
    "<div dir=rtl style=\"direction: rtl;line-height:200%;font-family:vazir;font-size:medium\">\n",
    "<font face=\"vazir\" size=3>\n",
    "    \n",
    "|ستون|توضیحات|\n",
    "|:------:|:---:|\n",
    "|<code>InvoiceNumber</code>|\tیک شماره‌ی ۶ رقمی که به‌طور منحصر به فرد به هر فاکتور اختصاص یافته است. اگر ابتدای این شماره با حرف C شروع شود، به این معنی است که آن فاکتور لغو شده است.|\n",
    "|<code>ProductCode</code>|یک شماره‌ی ۵ رقمی که به‌طور منحصر به فرد به هر نوع محصول اختصاص یافته است.|\n",
    "|<code>ProductName</code>|نام محصول|\n",
    "|<code>Quantity</code>|تعداد سفارش از یک نوع محصول در فاکتور|\n",
    "|<code>InvoiceDate</code>|تاریخ ایجاد فاکتور|\n",
    "|<code>UnitPrice</code>|قیمت یک نوع محصول به ازای یک واحد از آن|\n",
    "|<code>CusotmerId</code>|یک شماره‌ی ۵ رقمی که به‌طور منحصر به فرد به هر مشتری اختصاص یافته‌ است.|\n",
    "|<code>Country</code>|نام کشور محل سکونت مشتری|\n",
    "\n",
    "</font>\n",
    "</div>\n",
    "</center>"
   ]
  },
  {
   "cell_type": "code",
   "execution_count": null,
   "id": "dcb58d50",
   "metadata": {
    "id": "b0ad0cab",
    "outputId": "256eb757-521a-4029-a774-826f840578fc"
   },
   "outputs": [],
   "source": [
    "df = None # To-Do\n",
    "df.head()"
   ]
  },
  {
   "attachments": {},
   "cell_type": "markdown",
   "id": "f55b5fa9",
   "metadata": {
    "id": "d98bc7ea"
   },
   "source": [
    "<h2 align=right style=\"line-height:200%;font-family:vazir;color:#0099cc\">\n",
    "<font face=\"vazir\" color=\"#0099cc\">\n",
    "قسمت اول    \n",
    "</font>\n",
    "</h2>\n",
    "\n",
    "<p dir=rtl style=\"direction: rtl;text-align: justify;line-height:200%;font-family:vazir;font-size:medium\">\n",
    "<font face=\"vazir\" size=3>    \n",
    "    ابتدا فاکتورهایی که شناسه مشتری (<code>CustomerId</code>) آن‌ها موجود نیست را حذف کنید.\n",
    "    این کار را بر روی یک کپی از دیتافریم به نام <code>df_no_missing_CustomerId</code> انجام دهید.\n",
    "    \n",
    "</font>\n",
    "</p>\n"
   ]
  },
  {
   "cell_type": "code",
   "execution_count": null,
   "id": "a104e359",
   "metadata": {
    "id": "1269279d"
   },
   "outputs": [],
   "source": [
    "df_no_missing_CustomerId = df.copy()\n",
    "\n",
    "df_no_missing_CustomerId = None # To-Do\n",
    "\n",
    "df_no_missing_CustomerId.head()"
   ]
  },
  {
   "attachments": {},
   "cell_type": "markdown",
   "id": "6dfd6345",
   "metadata": {
    "id": "a63338c3"
   },
   "source": [
    "   \n",
    "<h2 align=right style=\"line-height:200%;font-family:vazir;color:#0099cc\">\n",
    "<font face=\"vazir\" color=\"#0099cc\">\n",
    "قسمت دوم    \n",
    "</font>\n",
    "</h2>\n",
    "\n",
    "<p dir=rtl style=\"direction: rtl;text-align: justify;line-height:200%;font-family:vazir;font-size:medium\">\n",
    "<font face=\"vazir\" size=3>    \n",
    "سپس از بین سطر‌هایی که تمامی مقادیر آن‌ها تکراری هستند، فقط یک سطر را نگه دارید. این کار را بر روی یک کپی از دیتافریم قبل با نام <code>df_no_duplicate</code> انجام دهید.\n",
    "</font>\n",
    "</p>\n"
   ]
  },
  {
   "cell_type": "code",
   "execution_count": null,
   "id": "acc758e5",
   "metadata": {
    "id": "582951c6"
   },
   "outputs": [],
   "source": [
    "df_no_duplicate = df_no_missing_CustomerId.copy()\n",
    "\n",
    "df_no_duplicate = None # To-Do\n",
    "\n",
    "df_no_duplicate.head()"
   ]
  },
  {
   "attachments": {},
   "cell_type": "markdown",
   "id": "76a0b25a",
   "metadata": {
    "id": "b6450112"
   },
   "source": [
    "<h2 align=right style=\"line-height:200%;font-family:vazir;color:#0099cc\">\n",
    "<font face=\"vazir\" color=\"#0099cc\">\n",
    "قسمت سوم    \n",
    "</font>\n",
    "</h2>\n",
    "\n",
    "<p dir=rtl style=\"direction: rtl;text-align: justify;line-height:200%;font-family:vazir;font-size:medium\">\n",
    "<font face=\"vazir\" size=3>        \n",
    "همچنین سطرهایی که قیمت (<code>UnitPrice</code>) آن‌ها صفر یا عددی منفی است را نیز از مجموعه‌داده حذف کنید. به‌عبارت دیگر تنها سطرهایی که قیمت‌شان مثبت است را نگه دارید. این کار را بر روی یک کپی از دیتافریم قبل با نام <code>df_no_missing_price</code> انجام دهید.\n",
    "</font>\n",
    "</p>\n"
   ]
  },
  {
   "cell_type": "code",
   "execution_count": null,
   "id": "b2d944eb",
   "metadata": {
    "id": "97e5386d"
   },
   "outputs": [],
   "source": [
    "df_no_missing_price = df_no_duplicate.copy()\n",
    "\n",
    "df_no_missing_price = None # To-Do\n",
    "\n",
    "df_no_missing_price.head()"
   ]
  },
  {
   "attachments": {},
   "cell_type": "markdown",
   "id": "6903a10f",
   "metadata": {
    "id": "8d09f90e"
   },
   "source": [
    "<h2 align=right style=\"line-height:200%;font-family:vazir;color:#0099cc\">\n",
    "<font face=\"vazir\" color=\"#0099cc\">\n",
    "قسمت چهارم\n",
    "</font>\n",
    "</h2>\n",
    "\n",
    "<p dir=rtl style=\"direction: rtl;text-align: justify;line-height:200%;font-family:vazir;font-size:medium\">\n",
    "<font face=\"vazir\" size=3>\n",
    "    اکنون طبق داده‌هایی که در مرحله‌ی قبل به دست آمدند (دیتافریم <code>df_no_missing_price</code>)، محاسبه کنید که چند درصد از کل سفارش‌ها لغو شده‌اند و عدد رُند شده‌ی آن را در متغیری به نام <code>percentage_cancelled_orders</code> ذخیره کنید. که چند درصد از کل سفارش‌ها، لغو شده‌اند.\n",
    "</font>\n",
    "</p>\n",
    "\n",
    "<p dir=rtl style=\"direction: rtl;text-align: justify;line-height:200%;font-family:vazir;font-size:medium\">\n",
    "<font face=\"vazir\" size=3>\n",
    "<span style=\"color:green\"><b>راهنمایی ۱:</b></span>\n",
    "چون ممکن است یک سفارش شامل بیش از یک محصول باشد، این احتمال وجود دارد که شناسه‌ی یک سفارش در چند ردیف تکرار شده باشد. برای محاسبه‌ی درصد سفارشات لغوشده، باید هر سفارش را تنها یک‌بار لحاظ کنید.\n",
    "<br>\n",
    "<span style=\"color:green\"><b>راهنمایی ۲:</b></span>\n",
    "در صورتی‌که مقدار ستون <code>InvoiceNumber</code> با حرف <code>C</code> شروع شده باشد به این معنی‌ست که آن سفارش لغو شده است.\n",
    "<br>\n",
    "<span style=\"color:green\"><b>راهنمایی ۳:</b></span>\n",
    "برای رُند کردن عدد از <code>round</code> استفاده کنید تا به‌عنوان مثال اگر عدد حاصل ۲۹/۸۷ درصد بود به عدد ۳۰ تبدیل شود.\n",
    "<br>\n",
    "\n",
    "</font>\n",
    "</p>"
   ]
  },
  {
   "cell_type": "code",
   "execution_count": null,
   "id": "ddf9f6d6",
   "metadata": {
    "id": "d54f4178",
    "outputId": "fa029c4a-a313-4726-a4d3-33f15cc1b59f"
   },
   "outputs": [],
   "source": [
    "percentage_cancelled_orders = None # To-Do"
   ]
  },
  {
   "attachments": {},
   "cell_type": "markdown",
   "id": "a9a04d3c",
   "metadata": {
    "id": "386781c4"
   },
   "source": [
    "<h2 align=right style=\"line-height:200%;font-family:vazir;color:#0099cc\">\n",
    "<font face=\"vazir\" color=\"#0099cc\">\n",
    "قسمت پنچم</font>\n",
    "</h2>\n",
    "\n",
    "<p dir=rtl style=\"direction: rtl;text-align: justify;line-height:200%;font-family:vazir;font-size:medium\">\n",
    "<font face=\"vazir\" size=3>  \n",
    "در این قسمت باید به کمک دیتافریم <code>df_no_missing_price</code> پنج مشتری با بیشترین تعداد دفعات لغو سفارش را پیدا کرده و شناسه‌های آن‌ها را در قالب یک لیست (به‌ترتیب نزولی) در متغیر <code>top_cancelling_customers</code> ذخیره کنید. توجه داشته باشید که مقادیر ستون <code>CustomerId</code> از جنس عدد <code>float</code> هستند اما مقادیر لیست خروجی شما باید از جنس رشته (<code>str</code>) باشند.\n",
    "</font>\n",
    "</p>\n",
    "\n",
    "\n",
    "<p dir=rtl style=\"direction: rtl;text-align: justify;line-height:200%;font-family:vazir;font-size:medium\">\n",
    "<font face=\"vazir\" size=3>\n",
    "<span style=\"color:green\"><b>راهنمایی:</b></span>\n",
    "در این قسمت هم به احتمال تکراری بودن شناسه‌ی سفارش‌ها دقت کنید. برای هر مشتری باید تعداد سفارش‌های یکتای لغوشده را محاسبه کنید.\n",
    "</font>\n",
    "</p>"
   ]
  },
  {
   "cell_type": "code",
   "execution_count": null,
   "id": "bf69c9b2",
   "metadata": {
    "id": "bf2501b4",
    "outputId": "36051d24-312b-4a56-fdc7-9022c51168d4"
   },
   "outputs": [],
   "source": [
    "top_cancelling_customers = None # To-Do"
   ]
  },
  {
   "attachments": {},
   "cell_type": "markdown",
   "id": "cd269684",
   "metadata": {
    "id": "aeb7766e"
   },
   "source": [
    "<h2 align=right style=\"line-height:200%;font-family:vazir;color:#0099cc\">\n",
    "<font face=\"vazir\" color=\"#0099cc\">\n",
    "قسمت ششم \n",
    "</font>\n",
    "</h2>\n",
    "\n",
    "<p dir=rtl style=\"direction: rtl;text-align: justify;line-height:200%;font-family:vazir;font-size:medium\">\n",
    "<font face=\"vazir\" size=3>  \n",
    "اکنون به‌عنوان آخرین مرحله‌ی پیش‌پردازش، ردیف‌های مربوط به سفارش‌های لغو شده را از دیتافریم حذف کنید. برای این کار از یک کپی از دیتافریم <code>df_no_missing_price</code> به نام <code>df_no_canceled_invoice</code> استفاده کنید و تغییرات خود را روی این دیتافریم اعمال کنید.\n",
    "</font>\n",
    "</p>\n"
   ]
  },
  {
   "cell_type": "code",
   "execution_count": null,
   "id": "e4d2ac62",
   "metadata": {
    "id": "1888ca41"
   },
   "outputs": [],
   "source": [
    "df_no_canceled_invoice = df_no_missing_price.copy()\n",
    "\n",
    "df_no_canceled_invoice = None # To-Do\n",
    "\n",
    "df_no_canceled_invoice.head()"
   ]
  },
  {
   "attachments": {},
   "cell_type": "markdown",
   "id": "2274ae66",
   "metadata": {},
   "source": [
    "\n",
    "<p dir=rtl style=\"direction: rtl;text-align: justify;line-height:200%;font-family:vazir;font-size:medium\">\n",
    "<font face=\"vazir\" size=3>  \n",
    "اکنون\n",
    "دیتافریم پیش‌پردازش‌شده را در فایلی به نام <code>preprocessed_sales.csv</code> ذخیره خواهیم کرد تا در گام‌های بعدی پروژه از این مجموعه‌داده استفاده کنید.\n",
    "</font>\n",
    "</p>"
   ]
  },
  {
   "cell_type": "code",
   "execution_count": null,
   "id": "a9fdde68",
   "metadata": {},
   "outputs": [],
   "source": [
    "df_no_canceled_invoice.to_csv(\"preprocessed_sales.csv\", index=False)"
   ]
  },
  {
   "attachments": {},
   "cell_type": "markdown",
   "id": "dbde39c0",
   "metadata": {},
   "source": [
    "<h2 align=right style=\"line-height:200%;font-family:vazir;color:#0099cc\">\n",
    "<font face=\"vazir\" color=\"#0099cc\">\n",
    "قسمت هفتم \n",
    "</font>\n",
    "</h2>\n",
    "\n",
    "<p dir=rtl style=\"direction: rtl;text-align: justify;line-height:200%;font-family:vazir;font-size:medium\">\n",
    "<font face=\"vazir\" size=3>  \n",
    "    حال شناسه‌ی سفارش‌های باقی‌مانده (حذف‌نشده) را با ساختار یک سری پانداز (<code>pd.Series</code>) در متغیر <code>remaining_invoices</code> قرار بدهید.\n",
    "    <br>\n",
    "    توجه کنید که تمام مقادیر موجود در متغیر <code>remaining_invoices</code> باید منحصر به فرد باشند. به عبارت بهتر، نباید در این متغیر هیچ شناسه‌ی تکراری‌ای وجود داشته باشد.\n",
    "</font>\n",
    "</p>"
   ]
  },
  {
   "cell_type": "code",
   "execution_count": null,
   "id": "8b21f88f",
   "metadata": {
    "id": "bd1240ef"
   },
   "outputs": [],
   "source": [
    "remaining_invoices = None # To-Do"
   ]
  },
  {
   "attachments": {},
   "cell_type": "markdown",
   "id": "0bd7779a",
   "metadata": {},
   "source": [
    "<h2 align=right style=\"line-height:200%;font-family:vazir;color:#0099cc\">\n",
    "<font face=\"vazir\" color=\"#0099cc\">\n",
    "<b>سلول جواب‌ساز</b>\n",
    "</font>\n",
    "</h2>\n",
    "\n",
    "\n",
    "<p dir=rtl style=\"direction: rtl; text-align: justify; line-height:200%; font-family:vazir; font-size:medium\">\n",
    "<font face=\"vazir\" size=3>\n",
    "    برای ساخته‌شدن فایل <code>result.zip</code> سلول زیر را اجرا کنید. توجه داشته باشید که پیش از اجرای سلول زیر تغییرات اعمال شده در نت‌بوک را ذخیره کرده باشید (<code>ctrl+s</code>) تا در صورت نیاز به پشتیبانی امکان بررسی کد شما وجود داشته باشد.\n",
    "</font>\n",
    "</p>"
   ]
  },
  {
   "cell_type": "code",
   "execution_count": null,
   "id": "7ec2f811",
   "metadata": {
    "id": "92401efc",
    "outputId": "e7c7656a-9622-4e13-ab45-b14e92ce4d03"
   },
   "outputs": [],
   "source": [
    "import zipfile\n",
    "import joblib\n",
    "\n",
    "joblib.dump(percentage_cancelled_orders, \"percentage_cancelled_orders\")\n",
    "joblib.dump(top_cancelling_customers, \"top_cancelling_customers\")\n",
    "\n",
    "df_no_missing_CustomerId.head(1000).to_csv(\"df_no_missing_CustomerId.csv\", index=False)\n",
    "df_no_duplicate.head(1000).to_csv(\"df_no_duplicate.csv\", index=False)\n",
    "df_no_missing_price.head(1000).to_csv(\"df_no_missing_price.csv\", index=False)\n",
    "df_no_canceled_invoice.head(1000).to_csv(\"df_no_canceled_invoice.csv\", index=False)\n",
    "remaining_invoices.to_csv(\"remaining_invoices.csv\", index=False)\n",
    "\n",
    "def compress(file_names):\n",
    "    print(\"File Paths:\")\n",
    "    print(file_names)\n",
    "    compression = zipfile.ZIP_DEFLATED\n",
    "    with zipfile.ZipFile(\"result.zip\", mode=\"w\") as zf:\n",
    "        for file_name in file_names:\n",
    "            zf.write('./' + file_name, file_name, compress_type=compression)\n",
    "\n",
    "file_names = [\"df_no_canceled_invoice.csv\", \"df_no_missing_CustomerId.csv\", \n",
    "              \"df_no_duplicate.csv\", \"df_no_missing_price.csv\",\n",
    "              \"percentage_cancelled_orders\", \"top_cancelling_customers\",\n",
    "              \"remaining_invoices.csv\", \"final_project_1_preprocessing.ipynb\"]\n",
    "compress(file_names)"
   ]
  }
 ],
 "metadata": {
  "colab": {
   "name": "preprocessing_answers.ipynb",
   "provenance": []
  },
  "kernelspec": {
   "display_name": "quera",
   "language": "python",
   "name": "python3"
  },
  "language_info": {
   "codemirror_mode": {
    "name": "ipython",
    "version": 3
   },
   "file_extension": ".py",
   "mimetype": "text/x-python",
   "name": "python",
   "nbconvert_exporter": "python",
   "pygments_lexer": "ipython3",
   "version": "3.9.7"
  },
  "vscode": {
   "interpreter": {
    "hash": "6a29b8f2e1e8b11f80c3820468461bcdbea6564508a235f61a46eeb59d48b308"
   }
  }
 },
 "nbformat": 4,
 "nbformat_minor": 5
}
