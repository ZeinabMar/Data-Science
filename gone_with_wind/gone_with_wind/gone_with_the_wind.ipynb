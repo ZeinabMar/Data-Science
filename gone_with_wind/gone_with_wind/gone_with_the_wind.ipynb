{
 "cells": [
  {
   "cell_type": "markdown",
   "metadata": {},
   "source": [
    "\n",
    "<h1 align=center style=\"line-height:200%;font-family:vazir;color:#0099cc\">\n",
    "<font face=\"vazir\" color=\"#0099cc\">\n",
    "بر باد رفته\n",
    "</font>\n",
    "</h1>\n",
    "\n",
    "\n"
   ]
  },
  {
   "attachments": {},
   "cell_type": "markdown",
   "metadata": {
    "id": "FKkOFNssZr-2"
   },
   "source": [
    "\n",
    "\n",
    "<p dir=rtl style=\"direction: rtl;text-align: justify;line-height:200%;font-family:vazir;font-size:medium\">\n",
    "<font face=\"vazir\" size=3>\n",
    "مدتی‌ست که کاربران در بازی \n",
    "<i>FIFA</i>\n",
    " دیگر نمی‌توانند با استراتژی سانتر و هد گل بزنند. برخی ادعا می‌کنند که دلیل این اتفاق، کاهش قد بازیکنان فوتبال است. در این تمرین با داشتن داده‌های بازی‌های \n",
    "<i>FIFA 11</i>\n",
    "  و \n",
    "<i>FIFA 21</i>،\n",
    " این فرضیه را بررسی می‌کنیم.\n",
    "</font>\n",
    "</p>\n"
   ]
  },
  {
   "cell_type": "code",
   "execution_count": null,
   "metadata": {
    "id": "-BuIRyxBnIt6"
   },
   "outputs": [],
   "source": [
    "import matplotlib.pyplot as plt\n",
    "import pandas as pd"
   ]
  },
  {
   "attachments": {},
   "cell_type": "markdown",
   "metadata": {
    "id": "ttXQP0lmtgtu"
   },
   "source": [
    "<h2 align=right style=\"line-height:200%;font-family:vazir;color:#0099cc\">\n",
    "<font face=\"vazir\" color=\"#0099cc\">\n",
    "قسمت اول\n",
    "</font>\n",
    "\n",
    "</h2>\n",
    "<p dir=rtl style=\"direction: rtl;text-align: justify;line-height:200%;font-family:vazir;font-size:medium\">\n",
    "<font face=\"vazir\" size=3>\n",
    "در این تمرین، به چهار صفحه‌محور نیاز داریم. در سلول زیر یک شکل با ۴ صفحه‌محور (دو سطر و دو ستون) ایجاد کنید. طول و عرض شکل را برابر ۱۰ اینچ قرار دهید.\n",
    "\n",
    "<ul dir=rtl style=\"direction: rtl;text-align: justify;\">\n",
    "  <li>\n",
    "عنوان شکل را <code>fifa11 vs fifa21</code> قرار دهید.\n",
    "</li>\n",
    "  <li>\n",
    "اندازه‌ی فونت عنوان شکل را برابر با <code>xx-large</code> قرار دهید.\n",
    "</li>\n",
    "</font>\n",
    "</p>\n",
    "\n",
    "\n"
   ]
  },
  {
   "cell_type": "code",
   "execution_count": null,
   "metadata": {
    "colab": {
     "base_uri": "https://localhost:8080/",
     "height": 681
    },
    "id": "ZwTnQtUIrlFC",
    "outputId": "527aeb4c-29eb-48f1-c0e7-f180da93304c"
   },
   "outputs": [],
   "source": [
    "# TODO: create the figure and plots\n",
    "fig, axes = None"
   ]
  },
  {
   "attachments": {},
   "cell_type": "markdown",
   "metadata": {
    "id": "vfsidbeuBeOJ"
   },
   "source": [
    "\n",
    "\n",
    "<h2 align=right style=\"line-height:200%;font-family:vazir;color:#0099cc\">\n",
    "<font face=\"vazir\" color=\"#0099cc\">\n",
    "قسمت دوم\n",
    "</font>\n",
    "\n",
    "</h2>\n",
    "<p dir=rtl style=\"direction: rtl;text-align: justify;line-height:200%;font-family:vazir;font-size:medium\">\n",
    "<font face=\"vazir\" size=3>\n",
    "در این مرحله داده‌های لازم برای رسم نمودار‌ها را ایجاد کنیم. برای این‌کار، داده‌های فیفا ۱۱ و فیفا ۲۱ را بخوانید و از هر مجموعه‌داده، دو ستون <code>weight</code> و <code>height</code> را در دیتافریمی جدید به نام <code>plot_df</code> بریزید.\n",
    "پس از ایجاد دیتافریم جدید، با تابع <code>head</code> بررسی کنید که دو سطر اول به شکل زیر باشد (نام ستون‌ها باید عیناً مانند شکل زیر باشد.).\n",
    "</font>\n",
    "</p>\n",
    "\n",
    "\n",
    "\n"
   ]
  },
  {
   "cell_type": "markdown",
   "metadata": {
    "id": "PO6hG2e6hsF9"
   },
   "source": [
    "<div style=\"line-height:200%;font-family:vazir;font-size:medium\">\n",
    "<p style=\"direction: rtl;text-align: right;\">\n",
    "<table align = center dir=ltr>\n",
    "\n",
    "\n",
    "<tr>\n",
    "<th>  </th>\n",
    "<th><font face=\"vazir\" size=3>weight2011</th>\n",
    "<th><font face=\"vazir\" size=3>weight2021</th>\n",
    "<th><font face=\"vazir\" size=3>height2011</th>\n",
    "<th><font face=\"vazir\" size=3>height2021</th>\n",
    "\n",
    "</tr>\n",
    "\n",
    "<tr>\n",
    "<td><font face=\"vazir\" size=3>0</td>\n",
    "<td><font face=\"vazir\" size=3>75.0</td>\n",
    "<td><font face=\"vazir\" size=3>68</td>\n",
    "<td><font face=\"vazir\" size=3>188.0</td>\n",
    "<td><font face=\"vazir\" size=3>184</td>\n",
    "</tr>\n",
    "\n",
    "<tr>\n",
    "<td>1</td>\n",
    "<td>69.0</td>\n",
    "<td>75</td>\n",
    "<td>172.0</td>\n",
    "<td>185</td>\n",
    "</tr>\n",
    "\n",
    "\n",
    "</table>\n",
    "</div</p>\n",
    "</div>\n",
    "\n"
   ]
  },
  {
   "attachments": {},
   "cell_type": "markdown",
   "metadata": {
    "id": "Wx7TDSeAj4G8"
   },
   "source": [
    "<div style=\"line-height:200%;font-family:vazir;font-size:medium\">\n",
    "<p style=\"direction: rtl;text-align: justify;\">\n",
    "<span style=\"color:purple\"><b>دقت کنید که  </b></span>\n",
    "در\n",
    "<i> FIFA 11</i>\n",
    "تعداد بازیکنان کمتر از \n",
    "<i> FIFA 21</i>\n",
    " می‌باشد و در نتیجه هنگام ایجاد دیتا فریم <code>plot_df</code>، مقدار بعضی از خانه‌ها خالی می‌ماند. \n",
    "<br>\n",
    " <span style=\"color:green\"><b>راهنمایی بزرگ:</b></span>\n",
    "  برای این بخش می‌توانید از دستور\n",
    " <code>concat</code>\n",
    " استفاده کنید.\n",
    "</p>\n",
    "</div>"
   ]
  },
  {
   "cell_type": "code",
   "execution_count": null,
   "metadata": {
    "colab": {
     "base_uri": "https://localhost:8080/",
     "height": 197
    },
    "id": "oJZXCx7dApTY",
    "outputId": "3c7ce7f3-d39f-4e58-9b7b-c62aac33235c"
   },
   "outputs": [],
   "source": [
    "# TODO: create the new dataframe\n",
    "plot_df = None "
   ]
  },
  {
   "attachments": {},
   "cell_type": "markdown",
   "metadata": {
    "id": "GHgXkzEuD6R9"
   },
   "source": [
    "<h2 align=right style=\"line-height:200%;font-family:vazir;color:#0099cc\">\n",
    "<font face=\"vazir\" color=\"#0099cc\">\n",
    "قسمت سوم\n",
    "</font>\n",
    "\n",
    "</h2>\n",
    "<p dir=rtl style=\"direction: rtl;text-align: justify;line-height:200%;font-family:vazir;font-size:medium\">\n",
    "<font face=\"vazir\" size=3>\n",
    "در صفحه‌محور اول، با استفاده از دو ستون <code>height2011</code> و <code>height2021</code> یک نمودار هیستوگرام بکشید. برای این‌کار دو ستون گفته‌شده را از دیتافریم <code>plot_df</code> را در یک دیتافریم جدید قرار دهید و با استفاده از واسط پانداز، نمودار هیستوگرام را بر روی صفحه‌محور اول رسم کنید. دقت کنید که فقط یک‌بار باید متد <code>plot</code> را فراخوانی کنید تا بازه‌ی سطل‌ها برای هر دو ستون، یک‌‌بار محاسبه شود.\n",
    "<br>\n",
    "\n",
    "<ul style=\"direction: rtl;text-align: justify;\">\n",
    "    <li>متغیر <code>alpha</code> شفافیت میله‌ها را مشخص می‌کند. برای این‌که هر دو هیستوگرام قابل تفکیک باشند،‌ مقدار <code>alpha</code> را برابر <code>0.5</code> قرار دهید.\n",
    "</li>\n",
    "  <li>هیستوگرام در حالت عادی به مقادیر حساس است. یعنی چون تعداد بازیکنان\n",
    "  <i>FIFA 21</i>\n",
    "  بیشتر از\n",
    "  <i>FIFA 11</i>  است، هیستوگرام آن بالاتر از \n",
    "  <i>FIFA 11</i>\n",
    "   قرار می‌گیرد. برای حل این مشکل می‌توان هیستوگرام را نرمال کرد. در این حالت همه‌ی مقادیر بین <code>0</code> و <code>1</code> قرار می‌گیرند و دیگر و وابسته به تعداد‌ نمونه‌ها نیستند. برای فعال‌کردن این ویژگی، متغیر <code>density</code> را برابر <code>True</code> قرار دهید.\n",
    "</li>\n",
    "  <li>\n",
    "  عنوان نمودار را برابر <code>height histogram</code> قرار دهید.\n",
    "</li>\n",
    "</ul>\n",
    "</font>\n",
    "</p>\n"
   ]
  },
  {
   "cell_type": "code",
   "execution_count": null,
   "metadata": {
    "colab": {
     "base_uri": "https://localhost:8080/",
     "height": 663
    },
    "id": "xxpomlrnCPHM",
    "outputId": "663c3607-0c01-4ae5-c2f2-b4a3ce7c4b46"
   },
   "outputs": [],
   "source": [
    "# TODO: draw the first plot\n",
    "fig"
   ]
  },
  {
   "attachments": {},
   "cell_type": "markdown",
   "metadata": {
    "id": "TH-Nisk4GDOo"
   },
   "source": [
    "\n",
    "\n",
    "<h2 align=right style=\"line-height:200%;font-family:vazir;color:#0099cc\">\n",
    "<font face=\"vazir\" color=\"#0099cc\">\n",
    "قسمت چهارم\n",
    "</font>\n",
    "\n",
    "</h2>\n",
    "<p dir=rtl style=\"direction: rtl;text-align: justify;line-height:200%;font-family:vazir;font-size:medium\">\n",
    "<font face=\"vazir\" size=3>\n",
    "در صفحه‌محور دوم، تابع چگالی را رسم کنید. برای این کار دو ستون سوال قبل را  انتخاب کنید و در واسط پانداز نوع نمودار را بر روی <code>kde</code> قرار دهید. در این نمودار هم مقدار <code>alpha</code> را برابر \n",
    "<code>0.5</code>\n",
    " قرار دهید تا تفکیک‌پذیری خطوط بهتر شود.\n",
    "<br>\n",
    "\n",
    "<ul style=\"direction: rtl;text-align: right;\">\n",
    "  <li>\n",
    "در این نمودار هم مقدار <code>alpha</code> را برابر \n",
    "<code>0.5</code>\n",
    " قرار دهید تا تفکیک‌پذیری خطوط بهتر شود.\n",
    "</li>\n",
    "\n",
    "  <li>\n",
    "  عنوان نمودار را برابر <code>height density plot</code> قرار دهید.\n",
    "</li>\n",
    "\n",
    "</ul>\n",
    "</font>\n",
    "</p>\n",
    "\n",
    "\n"
   ]
  },
  {
   "cell_type": "code",
   "execution_count": null,
   "metadata": {
    "colab": {
     "base_uri": "https://localhost:8080/",
     "height": 663
    },
    "id": "WR8vtaHGEXdu",
    "outputId": "4eda2934-5b02-45ec-e5f1-0bea6a3c88ae"
   },
   "outputs": [],
   "source": [
    "# TODO: draw the second plot\n",
    "fig"
   ]
  },
  {
   "attachments": {},
   "cell_type": "markdown",
   "metadata": {
    "id": "soXJtITspoVH"
   },
   "source": [
    "\n",
    "\n",
    "<h2 align=right style=\"line-height:200%;font-family:vazir;color:#0099cc\">\n",
    "<font face=\"vazir\" color=\"#0099cc\">\n",
    "قسمت پنجم\n",
    "</font>\n",
    "\n",
    "</h2>\n",
    "<p dir=rtl style=\"direction: rtl;text-align: justify;line-height:200%;font-family:vazir;font-size:medium\">\n",
    "<font face=\"vazir\" size=3>\n",
    "مراحل طی‌شده در قسمت سوم و چهارم را این‌‌بار بر روی ستون‌های وزن انجام دهید. در صفحه‌محور سوم تابع هیستوگرام و در صفحه‌محور چهارم تابع چگالی وزن \n",
    "<i>FIFA 11</i>\n",
    " و \n",
    " <i>FIFA 21</i>\n",
    "  را رسم کنید.\n",
    "<br>\n",
    "مقدار آلفا را برابر \n",
    "<code>0.5</code>\n",
    " قرار داده و عنوان نمودار‌ها را مانند مراحل قبل بنویسید و به جای <code>height</code>، عبارت <code>weight</code> را قرار دهید.\n",
    "</font>\n",
    "</p>\n",
    "\n"
   ]
  },
  {
   "cell_type": "code",
   "execution_count": null,
   "metadata": {
    "colab": {
     "base_uri": "https://localhost:8080/",
     "height": 663
    },
    "id": "23G3J-N-GMmE",
    "outputId": "0cec5e35-e06a-4505-b10f-dd202ae1e5d4"
   },
   "outputs": [],
   "source": [
    "# TODO: repeat previous steps on weight columns\n",
    "fig"
   ]
  },
  {
   "attachments": {},
   "cell_type": "markdown",
   "metadata": {},
   "source": [
    "\n",
    "<p dir=rtl style=\"direction: rtl;text-align: justify;line-height:200%;font-family:vazir;font-size:medium\">\n",
    "<font face=\"vazir\" size=3>\n",
    "خروجی نهایی باید به شکل زیر باشد.\n",
    "\n",
    "</font>\n",
    "</p>\n"
   ]
  },
  {
   "attachments": {},
   "cell_type": "markdown",
   "metadata": {},
   "source": [
    "<p style=\"text-align:center; background-color:white;\"><img src=\"output.png\" alt=\"Logo\"></p>"
   ]
  },
  {
   "attachments": {},
   "cell_type": "markdown",
   "metadata": {},
   "source": [
    "<h2 align=right style=\"line-height:200%;font-family:vazir;color:#0099cc\">\n",
    "<font face=\"vazir\" color=\"#0099cc\">\n",
    "<b>سلول جواب‌ساز</b>\n",
    "</font>\n",
    "</h2>\n",
    "\n",
    "\n",
    "<p dir=rtl style=\"direction: rtl; text-align: justify; line-height:200%; font-family:vazir; font-size:medium\">\n",
    "<font face=\"vazir\" size=3>\n",
    "    برای ساخته‌شدن فایل <code>result.zip</code> سلول زیر را اجرا کنید. توجه داشته باشید که پیش از اجرای سلول زیر تغییرات اعمال شده در نت‌بوک را ذخیره کرده باشید (<code>ctrl+s</code>) تا در صورت نیاز به پشتیبانی امکان بررسی کد شما وجود داشته باشد.\n",
    "</font>\n",
    "</p>\n",
    "\n"
   ]
  },
  {
   "cell_type": "code",
   "execution_count": null,
   "metadata": {
    "id": "Gg9gVwMALICV"
   },
   "outputs": [],
   "source": [
    "import zlib\n",
    "import zipfile\n",
    "import joblib\n",
    "\n",
    "joblib.dump(fig,\"fig\")\n",
    "plot_df.to_csv(\"plot_df.csv\")\n",
    "\n",
    "def compress(file_names):\n",
    "    print(\"File Paths:\")\n",
    "    print(file_names)\n",
    "    compression = zipfile.ZIP_DEFLATED\n",
    "    with zipfile.ZipFile(\"result.zip\", mode=\"w\") as zf:\n",
    "        for file_name in file_names:\n",
    "            zf.write('./' + file_name, file_name, compress_type=compression)\n",
    "\n",
    "file_names = [\"plot_df.csv\", \"fig\", \"gone_with_the_wind.ipynb\"]\n",
    "compress(file_names)"
   ]
  }
 ],
 "metadata": {
  "colab": {
   "collapsed_sections": [],
   "name": "Football girl.ipynb",
   "provenance": []
  },
  "kernelspec": {
   "display_name": "Python 3",
   "language": "python",
   "name": "python3"
  },
  "language_info": {
   "codemirror_mode": {
    "name": "ipython",
    "version": 3
   },
   "file_extension": ".py",
   "mimetype": "text/x-python",
   "name": "python",
   "nbconvert_exporter": "python",
   "pygments_lexer": "ipython3",
   "version": "3.8.0"
  },
  "vscode": {
   "interpreter": {
    "hash": "44e7e1b8fa2096bd5707ed7fd18b1724a2db25f4c565a7673f8b6e7bfc49d25d"
   }
  }
 },
 "nbformat": 4,
 "nbformat_minor": 4
}
