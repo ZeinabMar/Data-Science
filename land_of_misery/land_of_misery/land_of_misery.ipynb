{
  "cells": [
    {
      "cell_type": "markdown",
      "metadata": {
        "id": "mkG8r3YbAwl5"
      },
      "source": [
        "<h1 align=center style=\"line-height:200%;font-family:vazir;color:#0099cc\">\n",
        "<font face=\"vazir\" color=\"#0099cc\">\n",
        "سرزمین فلاکت\n",
        "</font>\n",
        "</h1>\n",
        "\n",
        "<p dir=rtl style=\"direction: rtl;text-align: justify;line-height:200%;font-family:vazir;font-size:medium\">\n",
        "<font face=\"vazir\" size=3>\n",
        "در این تمرین قصد داریم به سازمان حمایت از کارتن‌خواب‌ها کمک کنیم تا بتوانند در روزهای سرد خدمت بهتری به کارتن‌خواب‌ها ارائه دهند. یک داوطلب دست به کار شده و به مدت یک هفته، هر یک ساعت دمای هوا را در یکی پرکارتن‌خواب‌ترین مناطق اندازه گرفته و در لیستی به نام <code>temp_list</code> ذخیره کرده است. یعنی در این لیست به ازای هر روز، یک لیست دیگر به طول ۲۴ در نظر گرفته شده که دمای هوا در تمام ساعات (<b>از ساعت ۰۰ تا ۲۳</b>) در آن ذخیره شده است.\n",
        "</font>\n",
        "</p>\n",
        "\n"
      ]
    },
    {
      "cell_type": "code",
      "source": [
        "from google.colab import drive\n",
        "drive.mount('/content/drive')"
      ],
      "metadata": {
        "colab": {
          "base_uri": "https://localhost:8080/"
        },
        "id": "BrH2lEAVA4DG",
        "outputId": "1a857755-823e-4b79-ad20-6d91f784a1e3"
      },
      "execution_count": 1,
      "outputs": [
        {
          "output_type": "stream",
          "name": "stdout",
          "text": [
            "Mounted at /content/drive\n"
          ]
        }
      ]
    },
    {
      "cell_type": "code",
      "execution_count": 2,
      "metadata": {
        "id": "IOeZMvbqAwmA"
      },
      "outputs": [],
      "source": [
        "import numpy as np\n",
        "\n",
        "temp_list = [[-11,-13,-12,-11,-12,-13,-12,0,1,1,2,4,4,5,6,6,7,8,6,6,5,5,4,3],\n",
        "             [3,3,2,1,0,1,1,3,3,4,3,4,4,5,4,4,4,3,4,3,3,2,1,0],\n",
        "             [0,-11,-11,-12,-13,-11,1,1,2,3,4,5,3,2,2,1,1,1,0,0,-11,-11,-12,-13],\n",
        "             [-13,-13,-14,-14,-15,-16,-16,-15,-14,-14,-13,-12,-12,0,0,1,1,2,1,1,0,-11,-11,-11],\n",
        "             [-11,-12,-13,-13,-13,-12,-11,0,0,1,2,2,3,4,3,5,3,2,1,1,2,1,0,1],\n",
        "             [1,1,0,-11,-11,-12,-11,-11,0,1,1,1,2,3,2,3,4,5,6,4,2,2,1,1],\n",
        "             [0,0,1,0,-11,0,1,1,2,3,3,4,3,4,5,8,7,6,6,5,6,6,5,4]]"
      ]
    },
    {
      "cell_type": "markdown",
      "metadata": {
        "id": "nv2rq1z0AwmD"
      },
      "source": [
        "<h2 align=right style=\"line-height:200%;font-family:vazir;color:#0099cc\">\n",
        "<font face=\"vazir\" color=\"#0099cc\">\n",
        "قسمت اول\n",
        "</font>\n",
        "</h2>\n",
        "<p dir=rtl style=\"direction: rtl;text-align: justify;line-height:200%;font-family:vazir;font-size:medium\">\n",
        "<font face=\"vazir\" size=3>\n",
        "ابتدا لیست <code>temp_list</code> را تبدیل به آرایه‌ی نامپای کرده و در متغیری به نام <code>temp</code> ذخیره کنید.\n",
        "</font>\n",
        "</p>\n"
      ]
    },
    {
      "cell_type": "code",
      "execution_count": 3,
      "metadata": {
        "id": "0rFH9sxGAwmF"
      },
      "outputs": [],
      "source": [
        "temp = np.array(temp_list)"
      ]
    },
    {
      "cell_type": "markdown",
      "metadata": {
        "id": "6ratanqVAwmG"
      },
      "source": [
        "\n",
        "<h2 align=right style=\"line-height:200%;font-family:vazir;color:#0099cc\">\n",
        "<font face=\"vazir\" color=\"#0099cc\">\n",
        "قسمت دوم\n",
        "</font>\n",
        "</h2>\n",
        "<p dir=rtl style=\"direction: rtl;text-align: justify;line-height:200%;font-family:vazir;font-size:medium\">\n",
        "<font face=\"vazir\" size=3>\n",
        "داوطلب ما که دما را اندازه‌گیری کرده پس از مشاهده‌ی نتایج متوجه شده است که دستگاه اندازه‌گیری‌اش چینی بوده و در دماهای زیر صفر،‌ دما را ۱۰ درجه کمتر ثبت کرده است. به‌عنوان مثال اگر دما ۱- بوده، این دستگاه دما را ۱۱- ثبت کرده است. در این قسمت مقادیری که اشتباه ثبت شده‌اند را اصلاح کرده و کل مقادیر را با همان ترتیب قبل در متغیر <code>temp_correct</code> ذخیره کنید.\n",
        "</font>\n",
        "</p>\n"
      ]
    },
    {
      "cell_type": "code",
      "execution_count": null,
      "metadata": {
        "id": "fO2iRn1bAwmH"
      },
      "outputs": [],
      "source": [
        "temp_correct = temp.copy()\n",
        "print(temp_correct)\n",
        "temp_correct[temp_correct<0] += 10\n",
        "print(temp_correct)"
      ]
    },
    {
      "cell_type": "markdown",
      "metadata": {
        "id": "6vzgVhfpAwmH"
      },
      "source": [
        "\n",
        "<h2 align=right style=\"line-height:200%;font-family:vazir;color:#0099cc\">\n",
        "<font face=\"vazir\" color=\"#0099cc\">\n",
        "قسمت سوم\n",
        "</font>\n",
        "</h2>\n",
        "<p dir=rtl style=\"direction: rtl;text-align: justifyt;line-height:200%;font-family:vazir;font-size:medium\">\n",
        "<font face=\"vazir\" size=3>\n",
        "سازمان حمایت از کارتن‌خواب‌ها اعلام کرده که دما را به شکل فارنهایت (F°) می‌خواهد، اما داده‌هایی که در اختیار ما قرار گرفته به شکل سلسیوس (C°) ثبت شده است. اکنون نیاز است با استفاده از فرمول زیر،‌ دماهای قسمت قبل (آرایه‌ی <code>temp_correct</code>) را به فارنهایت تبدیل کرده و در متغیری به نام <code>temp_F</code> ذخیره کنید.\n",
        "</font>\n",
        "</p>\n",
        "\n",
        "$$ F = 1.8 * C + 32 $$\n"
      ]
    },
    {
      "cell_type": "code",
      "execution_count": 14,
      "metadata": {
        "colab": {
          "base_uri": "https://localhost:8080/"
        },
        "id": "XJEt7415AwmI",
        "outputId": "53fa068e-40b5-4f6f-beb2-7ef5f0fb2d7e"
      },
      "outputs": [
        {
          "output_type": "stream",
          "name": "stdout",
          "text": [
            "[[30.2 26.6 28.4 30.2 28.4 26.6 28.4 32.  33.8 33.8 35.6 39.2 39.2 41.\n",
            "  42.8 42.8 44.6 46.4 42.8 42.8 41.  41.  39.2 37.4]\n",
            " [37.4 37.4 35.6 33.8 32.  33.8 33.8 37.4 37.4 39.2 37.4 39.2 39.2 41.\n",
            "  39.2 39.2 39.2 37.4 39.2 37.4 37.4 35.6 33.8 32. ]\n",
            " [32.  30.2 30.2 28.4 26.6 30.2 33.8 33.8 35.6 37.4 39.2 41.  37.4 35.6\n",
            "  35.6 33.8 33.8 33.8 32.  32.  30.2 30.2 28.4 26.6]\n",
            " [26.6 26.6 24.8 24.8 23.  21.2 21.2 23.  24.8 24.8 26.6 28.4 28.4 32.\n",
            "  32.  33.8 33.8 35.6 33.8 33.8 32.  30.2 30.2 30.2]\n",
            " [30.2 28.4 26.6 26.6 26.6 28.4 30.2 32.  32.  33.8 35.6 35.6 37.4 39.2\n",
            "  37.4 41.  37.4 35.6 33.8 33.8 35.6 33.8 32.  33.8]\n",
            " [33.8 33.8 32.  30.2 30.2 28.4 30.2 30.2 32.  33.8 33.8 33.8 35.6 37.4\n",
            "  35.6 37.4 39.2 41.  42.8 39.2 35.6 35.6 33.8 33.8]\n",
            " [32.  32.  33.8 32.  30.2 32.  33.8 33.8 35.6 37.4 37.4 39.2 37.4 39.2\n",
            "  41.  46.4 44.6 42.8 42.8 41.  42.8 42.8 41.  39.2]]\n"
          ]
        }
      ],
      "source": [
        "temp_F = temp_correct.copy()\n",
        "temp_F = 1.8 * temp_F +32\n",
        "print(temp_F)"
      ]
    },
    {
      "cell_type": "markdown",
      "metadata": {
        "id": "WvMapDCzAwmI"
      },
      "source": [
        "\n",
        "<h2 align=right style=\"line-height:200%;font-family:vazir;color:#0099cc\">\n",
        "<font face=\"vazir\" color=\"#0099cc\">\n",
        "قسمت چهارم\n",
        "</font>\n",
        "</h2>\n",
        "<p dir=rtl style=\"direction: rtl;text-align: right;line-height:200%;font-family:vazir;font-size:medium\">\n",
        "<font face=\"vazir\" size=3>\n",
        "در ادامه از شما خواسته شده که گرم‌ترین ساعت هر روز را به همراه دمای هوا در آن ساعت گزارش دهید،‌ زیرا در این ساعت کارتن‌خواب‌ها راحت‌تر می‌توانند برای دریافت غذا از کارتن خود خارج شوند.\n",
        "\n",
        "<br>\n",
        "تحلیل‌های خود را بر روی آرایه‌ی قسمت قبل (<code>temp_F</code>) انجام دهید و خروجی خود را به شکل یک آرایه با ابعاد <code dir=ltr>(2, 7)</code> در متغیر <code>hottest_times</code> ذخیره کنید. در ردیف اول، ساعت بیشترین دما در هر روز و در ردیف دوم، دمای هوا در آن ساعت را قرار دهید. یعنی خروجی شما باید به شکل زیر باشد:\n",
        "\n",
        "<table dir=ltr style=\"width:100%; text-align:center\">\n",
        "  <tr>\n",
        "    <th><font face=\"vazir\" size=3>ساعت بیشترین دما در روز اول</th>\n",
        "    <th><font face=\"vazir\" size=3>ساعت بیشترین دما در روز دوم</th>\n",
        "    <th><font face=\"vazir\" size=3>...</th>\n",
        "    <th><font face=\"vazir\" size=3>ساعت بیشترین دما در روز هفتم</th>\n",
        "\n",
        "  </tr>\n",
        "  <tr>\n",
        "    <th><font face=\"vazir\" size=3>بیشترین دما در روز اول</th>\n",
        "    <th><font face=\"vazir\" size=3>بیشترین دما در روز دوم</th>\n",
        "    <th><font face=\"vazir\" size=3>...</th>\n",
        "    <th><font face=\"vazir\" size=3>بیشترین دما در روز هفتم</th>\n",
        "  </tr>\n",
        "\n",
        "\n",
        "</table>\n",
        "</font>\n",
        "</p>"
      ]
    },
    {
      "cell_type": "code",
      "execution_count": 36,
      "metadata": {
        "colab": {
          "base_uri": "https://localhost:8080/"
        },
        "id": "fyfJv1plAwmJ",
        "outputId": "18491aac-3bd0-43ca-b299-fca34f2d27bd"
      },
      "outputs": [
        {
          "output_type": "stream",
          "name": "stdout",
          "text": [
            "[[17.  13.  11.  17.  15.  18.  15. ]\n",
            " [46.4 41.  41.  35.6 41.  42.8 46.4]]\n"
          ]
        }
      ],
      "source": [
        "hottest_times = np.zeros((2,7))\n",
        "hottest_times[0] = np.argmax(temp_F, axis=1)\n",
        "hottest_times[1] = np.max(temp_F, axis=1)\n",
        "print(hottest_times)"
      ]
    },
    {
      "cell_type": "markdown",
      "metadata": {
        "id": "-SX52uFPAwmJ"
      },
      "source": [
        "<h2 align=right style=\"line-height:200%;font-family:vazir;color:#0099cc\">\n",
        "<font face=\"vazir\" color=\"#0099cc\">\n",
        "قسمت پنجم\n",
        "</font>\n",
        "</h2>\n",
        "\n",
        "<p dir=rtl style=\"direction: rtl;text-align: justify;line-height:200%;font-family:vazir;font-size:medium\">\n",
        "<font face=\"vazir\" size=3>\n",
        "در آخر از شما می‌خواهیم شماره روزی که میانگین دما در آن <b>کمترین</b> بوده را همراه با خود مقدار میانگین دما در آرایه‌ی <code>coldest_day</code> ذخیره کنید، تا سازمان بتواند در چنین روزی بین کارتن‌خواب‌ها نوشیدنی گرم هم پخش کند.\n",
        "\n",
        "<br>\n",
        "تحلیل‌های خود را بر روی آرایه‌ی  <code>temp_F</code> انجام دهید و خروجی خود را به شکل یک آرایه‌ی تک‌بعدی به طول ۲ در متغیر <code>coldest_day</code> ذخیره کنید. در عنصر اول، شماره روز با کمترین میانگین دما (بین ۰ تا ۶) و در عنصر دوم، میانگین دما در آن روز را قرار دهید. یعنی خروجی شما باید به شکل زیر باشد:\n",
        "\n",
        "<table dir=ltr style=\"width:100%\">\n",
        "  <tr>\n",
        "    <th><font face=\"vazir\" size=3>روز</th>\n",
        "    <th><font face=\"vazir\" size=3>دما</th>\n",
        "  </tr>\n",
        "</table>\n",
        "\n",
        "</font>\n",
        "</p>\n"
      ]
    },
    {
      "cell_type": "code",
      "execution_count": 48,
      "metadata": {
        "colab": {
          "base_uri": "https://localhost:8080/"
        },
        "id": "2xEGYOkiAwmK",
        "outputId": "573cf1dc-730e-4c06-b488-135041b00b03"
      },
      "outputs": [
        {
          "output_type": "stream",
          "name": "stdout",
          "text": [
            "21.2\n",
            "3\n",
            "[ 3.  21.2]\n"
          ]
        }
      ],
      "source": [
        "coldest = np.min(np.min(temp_F, axis=1), axis=0)\n",
        "print(coldest)\n",
        "coldest_d = np.argmin(np.min(temp_F, axis=1), axis=0)\n",
        "print(coldest_d)\n",
        "coldest_day = np.array([coldest_d,coldest])\n",
        "print(coldest_day)"
      ]
    },
    {
      "cell_type": "markdown",
      "metadata": {
        "id": "rBOLlX2oAwmK"
      },
      "source": [
        "<h2 align=right style=\"line-height:200%;font-family:vazir;color:#0099cc\">\n",
        "<font face=\"vazir\" color=\"#0099cc\">\n",
        "<b>سلول جواب‌ساز</b>\n",
        "</font>\n",
        "</h2>\n",
        "\n",
        "\n",
        "<p dir=rtl style=\"direction: rtl; text-align: justify; line-height:200%; font-family:vazir; font-size:medium\">\n",
        "<font face=\"vazir\" size=3>\n",
        "    برای ساخته‌شدن فایل <code>result.zip</code> سلول زیر را اجرا کنید. توجه داشته باشید که پیش از اجرای سلول زیر تغییرات اعمال شده در نت‌بوک را ذخیره کرده باشید (<code>ctrl+s</code>) تا در صورت نیاز به پشتیبانی امکان بررسی کد شما وجود داشته باشد.\n",
        "</font>\n",
        "</p>"
      ]
    },
    {
      "cell_type": "code",
      "source": [
        "%cd /content/drive/MyDrive/land_of_misery"
      ],
      "metadata": {
        "colab": {
          "base_uri": "https://localhost:8080/"
        },
        "id": "OwpBvKOHfB6G",
        "outputId": "4d9ed49f-7eca-4391-8547-da0b2194bdb2"
      },
      "execution_count": 50,
      "outputs": [
        {
          "output_type": "stream",
          "name": "stdout",
          "text": [
            "/content/drive/MyDrive/land_of_misery\n"
          ]
        }
      ]
    },
    {
      "cell_type": "code",
      "execution_count": 49,
      "metadata": {
        "colab": {
          "base_uri": "https://localhost:8080/",
          "height": 390
        },
        "id": "_xeHskPnAwmL",
        "outputId": "2f74f798-8097-467f-fdfa-de8398e3b969"
      },
      "outputs": [
        {
          "output_type": "stream",
          "name": "stdout",
          "text": [
            "File Paths:\n",
            "['answers.npz', 'land_of_misery.ipynb']\n"
          ]
        },
        {
          "output_type": "error",
          "ename": "FileNotFoundError",
          "evalue": "ignored",
          "traceback": [
            "\u001b[0;31m---------------------------------------------------------------------------\u001b[0m",
            "\u001b[0;31mFileNotFoundError\u001b[0m                         Traceback (most recent call last)",
            "\u001b[0;32m<ipython-input-49-97b9a47701e9>\u001b[0m in \u001b[0;36m<cell line: 17>\u001b[0;34m()\u001b[0m\n\u001b[1;32m     15\u001b[0m \u001b[0;34m\u001b[0m\u001b[0m\n\u001b[1;32m     16\u001b[0m \u001b[0mfile_names\u001b[0m \u001b[0;34m=\u001b[0m \u001b[0;34m[\u001b[0m\u001b[0;34m\"answers.npz\"\u001b[0m\u001b[0;34m,\u001b[0m \u001b[0;34m\"land_of_misery.ipynb\"\u001b[0m\u001b[0;34m]\u001b[0m\u001b[0;34m\u001b[0m\u001b[0;34m\u001b[0m\u001b[0m\n\u001b[0;32m---> 17\u001b[0;31m \u001b[0mcompress\u001b[0m\u001b[0;34m(\u001b[0m\u001b[0mfile_names\u001b[0m\u001b[0;34m)\u001b[0m\u001b[0;34m\u001b[0m\u001b[0;34m\u001b[0m\u001b[0m\n\u001b[0m",
            "\u001b[0;32m<ipython-input-49-97b9a47701e9>\u001b[0m in \u001b[0;36mcompress\u001b[0;34m(file_names)\u001b[0m\n\u001b[1;32m     12\u001b[0m     \u001b[0;32mwith\u001b[0m \u001b[0mzipfile\u001b[0m\u001b[0;34m.\u001b[0m\u001b[0mZipFile\u001b[0m\u001b[0;34m(\u001b[0m\u001b[0;34m\"result.zip\"\u001b[0m\u001b[0;34m,\u001b[0m \u001b[0mmode\u001b[0m\u001b[0;34m=\u001b[0m\u001b[0;34m\"w\"\u001b[0m\u001b[0;34m)\u001b[0m \u001b[0;32mas\u001b[0m \u001b[0mzf\u001b[0m\u001b[0;34m:\u001b[0m\u001b[0;34m\u001b[0m\u001b[0;34m\u001b[0m\u001b[0m\n\u001b[1;32m     13\u001b[0m         \u001b[0;32mfor\u001b[0m \u001b[0mfile_name\u001b[0m \u001b[0;32min\u001b[0m \u001b[0mfile_names\u001b[0m\u001b[0;34m:\u001b[0m\u001b[0;34m\u001b[0m\u001b[0;34m\u001b[0m\u001b[0m\n\u001b[0;32m---> 14\u001b[0;31m             \u001b[0mzf\u001b[0m\u001b[0;34m.\u001b[0m\u001b[0mwrite\u001b[0m\u001b[0;34m(\u001b[0m\u001b[0;34m'./'\u001b[0m \u001b[0;34m+\u001b[0m \u001b[0mfile_name\u001b[0m\u001b[0;34m,\u001b[0m \u001b[0mfile_name\u001b[0m\u001b[0;34m,\u001b[0m \u001b[0mcompress_type\u001b[0m\u001b[0;34m=\u001b[0m\u001b[0mcompression\u001b[0m\u001b[0;34m)\u001b[0m\u001b[0;34m\u001b[0m\u001b[0;34m\u001b[0m\u001b[0m\n\u001b[0m\u001b[1;32m     15\u001b[0m \u001b[0;34m\u001b[0m\u001b[0m\n\u001b[1;32m     16\u001b[0m \u001b[0mfile_names\u001b[0m \u001b[0;34m=\u001b[0m \u001b[0;34m[\u001b[0m\u001b[0;34m\"answers.npz\"\u001b[0m\u001b[0;34m,\u001b[0m \u001b[0;34m\"land_of_misery.ipynb\"\u001b[0m\u001b[0;34m]\u001b[0m\u001b[0;34m\u001b[0m\u001b[0;34m\u001b[0m\u001b[0m\n",
            "\u001b[0;32m/usr/lib/python3.10/zipfile.py\u001b[0m in \u001b[0;36mwrite\u001b[0;34m(self, filename, arcname, compress_type, compresslevel)\u001b[0m\n\u001b[1;32m   1739\u001b[0m             )\n\u001b[1;32m   1740\u001b[0m \u001b[0;34m\u001b[0m\u001b[0m\n\u001b[0;32m-> 1741\u001b[0;31m         zinfo = ZipInfo.from_file(filename, arcname,\n\u001b[0m\u001b[1;32m   1742\u001b[0m                                   strict_timestamps=self._strict_timestamps)\n\u001b[1;32m   1743\u001b[0m \u001b[0;34m\u001b[0m\u001b[0m\n",
            "\u001b[0;32m/usr/lib/python3.10/zipfile.py\u001b[0m in \u001b[0;36mfrom_file\u001b[0;34m(cls, filename, arcname, strict_timestamps)\u001b[0m\n\u001b[1;32m    502\u001b[0m         \u001b[0;32mif\u001b[0m \u001b[0misinstance\u001b[0m\u001b[0;34m(\u001b[0m\u001b[0mfilename\u001b[0m\u001b[0;34m,\u001b[0m \u001b[0mos\u001b[0m\u001b[0;34m.\u001b[0m\u001b[0mPathLike\u001b[0m\u001b[0;34m)\u001b[0m\u001b[0;34m:\u001b[0m\u001b[0;34m\u001b[0m\u001b[0;34m\u001b[0m\u001b[0m\n\u001b[1;32m    503\u001b[0m             \u001b[0mfilename\u001b[0m \u001b[0;34m=\u001b[0m \u001b[0mos\u001b[0m\u001b[0;34m.\u001b[0m\u001b[0mfspath\u001b[0m\u001b[0;34m(\u001b[0m\u001b[0mfilename\u001b[0m\u001b[0;34m)\u001b[0m\u001b[0;34m\u001b[0m\u001b[0;34m\u001b[0m\u001b[0m\n\u001b[0;32m--> 504\u001b[0;31m         \u001b[0mst\u001b[0m \u001b[0;34m=\u001b[0m \u001b[0mos\u001b[0m\u001b[0;34m.\u001b[0m\u001b[0mstat\u001b[0m\u001b[0;34m(\u001b[0m\u001b[0mfilename\u001b[0m\u001b[0;34m)\u001b[0m\u001b[0;34m\u001b[0m\u001b[0;34m\u001b[0m\u001b[0m\n\u001b[0m\u001b[1;32m    505\u001b[0m         \u001b[0misdir\u001b[0m \u001b[0;34m=\u001b[0m \u001b[0mstat\u001b[0m\u001b[0;34m.\u001b[0m\u001b[0mS_ISDIR\u001b[0m\u001b[0;34m(\u001b[0m\u001b[0mst\u001b[0m\u001b[0;34m.\u001b[0m\u001b[0mst_mode\u001b[0m\u001b[0;34m)\u001b[0m\u001b[0;34m\u001b[0m\u001b[0;34m\u001b[0m\u001b[0m\n\u001b[1;32m    506\u001b[0m         \u001b[0mmtime\u001b[0m \u001b[0;34m=\u001b[0m \u001b[0mtime\u001b[0m\u001b[0;34m.\u001b[0m\u001b[0mlocaltime\u001b[0m\u001b[0;34m(\u001b[0m\u001b[0mst\u001b[0m\u001b[0;34m.\u001b[0m\u001b[0mst_mtime\u001b[0m\u001b[0;34m)\u001b[0m\u001b[0;34m\u001b[0m\u001b[0;34m\u001b[0m\u001b[0m\n",
            "\u001b[0;31mFileNotFoundError\u001b[0m: [Errno 2] No such file or directory: './land_of_misery.ipynb'"
          ]
        }
      ],
      "source": [
        "import zlib\n",
        "import zipfile\n",
        "\n",
        "np.savez(\"answers.npz\", temp = temp, temp_correct = temp_correct,\n",
        "         temp_F = temp_F, hottest_times = hottest_times, coldest_day = coldest_day)\n",
        "\n",
        "\n",
        "def compress(file_names):\n",
        "    print(\"File Paths:\")\n",
        "    print(file_names)\n",
        "    compression = zipfile.ZIP_DEFLATED\n",
        "    with zipfile.ZipFile(\"result.zip\", mode=\"w\") as zf:\n",
        "        for file_name in file_names:\n",
        "            zf.write('./' + file_name, file_name, compress_type=compression)\n",
        "\n",
        "file_names = [\"answers.npz\", \"land_of_misery.ipynb\"]\n",
        "compress(file_names)"
      ]
    }
  ],
  "metadata": {
    "kernelspec": {
      "display_name": "Python 3",
      "name": "python3"
    },
    "language_info": {
      "codemirror_mode": {
        "name": "ipython",
        "version": 3
      },
      "file_extension": ".py",
      "mimetype": "text/x-python",
      "name": "python",
      "nbconvert_exporter": "python",
      "pygments_lexer": "ipython3",
      "version": "3.9.7"
    },
    "vscode": {
      "interpreter": {
        "hash": "6a29b8f2e1e8b11f80c3820468461bcdbea6564508a235f61a46eeb59d48b308"
      }
    },
    "colab": {
      "provenance": [],
      "gpuType": "T4"
    },
    "accelerator": "GPU"
  },
  "nbformat": 4,
  "nbformat_minor": 0
}