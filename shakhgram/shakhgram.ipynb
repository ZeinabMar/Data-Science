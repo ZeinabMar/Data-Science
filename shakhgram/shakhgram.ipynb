{
  "cells": [
    {
      "cell_type": "markdown",
      "id": "d64d01af",
      "metadata": {
        "id": "d64d01af"
      },
      "source": [
        "<h1 align=center style=\"line-height:200%;font-family:vazir;color:#0099cc\">\n",
        "<font face=\"vazir\" color=\"#0099cc\">\n",
        "    شاخگرام\n",
        "</font>\n",
        "</h1>\n"
      ]
    },
    {
      "cell_type": "code",
      "source": [
        "from google.colab import drive\n",
        "drive.mount('/content/drive')"
      ],
      "metadata": {
        "colab": {
          "base_uri": "https://localhost:8080/"
        },
        "id": "2V1d50n61cP8",
        "outputId": "ed658df2-dc3f-4b28-99f7-5a24374aa7f6"
      },
      "id": "2V1d50n61cP8",
      "execution_count": 1,
      "outputs": [
        {
          "output_type": "stream",
          "name": "stdout",
          "text": [
            "Mounted at /content/drive\n"
          ]
        }
      ]
    },
    {
      "cell_type": "markdown",
      "id": "4e177dbd-7e65-45b6-8221-1dec02f863e2",
      "metadata": {
        "id": "4e177dbd-7e65-45b6-8221-1dec02f863e2"
      },
      "source": [
        "<div dir=rtl id=\"start\" style=\"direction: rtl;text-align: justify;line-height:200%;font-family:vazir;font-size:medium\">\n",
        "\t<font face=\"vazir\" size=3>\n",
        "در درسنامه‌های پیشین با ساختمان‌داده‌های پرکاربرد در پانداز آشنا شدیم. در این تمرین، قصد داریم انتخاب داده از یک دیتافریم را بیشتر تمرین کنیم.\n",
        "مجموعه‌داده‌ای که برای این تمرین در دست داریم، مربوط به یک شبکه‌ی اجتماعی فرضی به نام شاخگرام است که در آن افراد سعی می‌کنند هرچه بیشتر شاخ شوند!\n",
        " هدف اصلی این تمرین بررسی داده‌های شاخگرام و نوشتن شرط‌های گوناگون جهت فیلتر کردن شاخ‌های سطوح مختلف است.\n",
        "    </font>\n",
        "</div>"
      ]
    },
    {
      "cell_type": "code",
      "execution_count": 2,
      "id": "3934f0cc",
      "metadata": {
        "id": "3934f0cc"
      },
      "outputs": [],
      "source": [
        "import pandas as pd\n",
        "import numpy as np"
      ]
    },
    {
      "cell_type": "markdown",
      "id": "1792e7ff",
      "metadata": {
        "id": "1792e7ff"
      },
      "source": [
        "<h2 align=right style=\"line-height:200%;font-family:vazir;color:#0099cc\">\n",
        "<font face=\"vazir\" color=\"#0099cc\">\n",
        "مجموعه‌داده\n",
        "</font>\n",
        "</h2>\n",
        "\n",
        "<p dir=rtl style=\"direction: rtl;text-align: justify;line-height:200%;font-family:vazir;font-size:medium\">\n",
        "<font face=\"vazir\" size=3>\n",
        "داده‌های مربوط به این تمرین در فایل <code>shakhgram.csv</code> قرار گرفته و به کمک سلول زیر می‌توانید آن را به شکل یک دیتافریم بخوانید و در متغیر <code>df</code> ذخیره کنید. این دیتافریم شامل ستون‌های زیر است:\n",
        "</font>\n",
        "</p>\n",
        "\n",
        "<center>\n",
        "<div dir=rtl style=\"direction: rtl;line-height:200%;font-family:vazir;font-size:medium\">\n",
        "<font face=\"vazir\" size=3>\n",
        "\n",
        "| نام ستون | توضیحات |\n",
        "| :---: | :---: |\n",
        "| `owner_name` | اسم صاحب پیج |\n",
        "| `follower` | تعداد دنبال‌کنندگان پیج |\n",
        "| `following` | تعداد دنبال‌شوندگان پیج |\n",
        "| `post_number` | تعداد پست‌های پیج |\n",
        "\n",
        "</font>\n",
        "</div>\n",
        "</center>"
      ]
    },
    {
      "cell_type": "code",
      "execution_count": 3,
      "id": "c5312517",
      "metadata": {
        "id": "c5312517"
      },
      "outputs": [],
      "source": [
        "df = pd.read_csv(\"/content/drive/MyDrive/shakhgram/shakhgram.csv\")"
      ]
    },
    {
      "cell_type": "markdown",
      "id": "b562fdc1-2071-47e5-8aae-eb3581aadd99",
      "metadata": {
        "id": "b562fdc1-2071-47e5-8aae-eb3581aadd99"
      },
      "source": [
        "<h2 align=right style=\"line-height:200%;font-family:vazir;color:#0099cc\">\n",
        "<font face=\"vazir\" color=\"#0099cc\">\n",
        "    مشاهده‌ی داده‌ها\n",
        "    </font>\n",
        "</h2>\n",
        "\n",
        "<p dir=rtl style=\"direction: rtl;text-align: justify;line-height:200%;font-family:vazir;font-size:medium\">\n",
        "<font face=\"vazir\" size=3>\n",
        "با اجرای سلول زیر، ۵ سطر اول دیتافریم نمایش داده می‌شود تا یک نگاه کلی به داده‌ها داشته باشیم.\n",
        "پیشنهاد می‌کنیم سعی کنید ستون‌ها و سطرهای مختلفی از دیتافریم را انتخاب و مشاهده کنید تا علاوه بر این‌که با مجموعه‌داده بیشتر آشنا می‌شوید، برای پیاده‌سازی پاسخ تمرین نیز آماده‌تر شوید!\n",
        "</font>\n",
        "</p>"
      ]
    },
    {
      "cell_type": "code",
      "execution_count": 4,
      "id": "856f8d8c",
      "metadata": {
        "colab": {
          "base_uri": "https://localhost:8080/",
          "height": 206
        },
        "id": "856f8d8c",
        "outputId": "4a658dec-ceb7-4f51-8f32-5d4b240e5204"
      },
      "outputs": [
        {
          "output_type": "execute_result",
          "data": {
            "text/plain": [
              "          owner_name     follower  following  post_number\n",
              "0  Muhammad Schaefer  108751787.0       45.0         61.0\n",
              "1          Ezra Kemp  172731383.0       71.0         43.0\n",
              "2           Eli Good  105194939.0       20.0         44.0\n",
              "3   Lillianna Pruitt   14807976.0       11.0         88.0\n",
              "4    Carlie Woodward  228517005.0       68.0         52.0"
            ],
            "text/html": [
              "\n",
              "  <div id=\"df-68d30927-99d9-4ccb-a1ec-e005820a099a\" class=\"colab-df-container\">\n",
              "    <div>\n",
              "<style scoped>\n",
              "    .dataframe tbody tr th:only-of-type {\n",
              "        vertical-align: middle;\n",
              "    }\n",
              "\n",
              "    .dataframe tbody tr th {\n",
              "        vertical-align: top;\n",
              "    }\n",
              "\n",
              "    .dataframe thead th {\n",
              "        text-align: right;\n",
              "    }\n",
              "</style>\n",
              "<table border=\"1\" class=\"dataframe\">\n",
              "  <thead>\n",
              "    <tr style=\"text-align: right;\">\n",
              "      <th></th>\n",
              "      <th>owner_name</th>\n",
              "      <th>follower</th>\n",
              "      <th>following</th>\n",
              "      <th>post_number</th>\n",
              "    </tr>\n",
              "  </thead>\n",
              "  <tbody>\n",
              "    <tr>\n",
              "      <th>0</th>\n",
              "      <td>Muhammad Schaefer</td>\n",
              "      <td>108751787.0</td>\n",
              "      <td>45.0</td>\n",
              "      <td>61.0</td>\n",
              "    </tr>\n",
              "    <tr>\n",
              "      <th>1</th>\n",
              "      <td>Ezra Kemp</td>\n",
              "      <td>172731383.0</td>\n",
              "      <td>71.0</td>\n",
              "      <td>43.0</td>\n",
              "    </tr>\n",
              "    <tr>\n",
              "      <th>2</th>\n",
              "      <td>Eli Good</td>\n",
              "      <td>105194939.0</td>\n",
              "      <td>20.0</td>\n",
              "      <td>44.0</td>\n",
              "    </tr>\n",
              "    <tr>\n",
              "      <th>3</th>\n",
              "      <td>Lillianna Pruitt</td>\n",
              "      <td>14807976.0</td>\n",
              "      <td>11.0</td>\n",
              "      <td>88.0</td>\n",
              "    </tr>\n",
              "    <tr>\n",
              "      <th>4</th>\n",
              "      <td>Carlie Woodward</td>\n",
              "      <td>228517005.0</td>\n",
              "      <td>68.0</td>\n",
              "      <td>52.0</td>\n",
              "    </tr>\n",
              "  </tbody>\n",
              "</table>\n",
              "</div>\n",
              "    <div class=\"colab-df-buttons\">\n",
              "\n",
              "  <div class=\"colab-df-container\">\n",
              "    <button class=\"colab-df-convert\" onclick=\"convertToInteractive('df-68d30927-99d9-4ccb-a1ec-e005820a099a')\"\n",
              "            title=\"Convert this dataframe to an interactive table.\"\n",
              "            style=\"display:none;\">\n",
              "\n",
              "  <svg xmlns=\"http://www.w3.org/2000/svg\" height=\"24px\" viewBox=\"0 -960 960 960\">\n",
              "    <path d=\"M120-120v-720h720v720H120Zm60-500h600v-160H180v160Zm220 220h160v-160H400v160Zm0 220h160v-160H400v160ZM180-400h160v-160H180v160Zm440 0h160v-160H620v160ZM180-180h160v-160H180v160Zm440 0h160v-160H620v160Z\"/>\n",
              "  </svg>\n",
              "    </button>\n",
              "\n",
              "  <style>\n",
              "    .colab-df-container {\n",
              "      display:flex;\n",
              "      gap: 12px;\n",
              "    }\n",
              "\n",
              "    .colab-df-convert {\n",
              "      background-color: #E8F0FE;\n",
              "      border: none;\n",
              "      border-radius: 50%;\n",
              "      cursor: pointer;\n",
              "      display: none;\n",
              "      fill: #1967D2;\n",
              "      height: 32px;\n",
              "      padding: 0 0 0 0;\n",
              "      width: 32px;\n",
              "    }\n",
              "\n",
              "    .colab-df-convert:hover {\n",
              "      background-color: #E2EBFA;\n",
              "      box-shadow: 0px 1px 2px rgba(60, 64, 67, 0.3), 0px 1px 3px 1px rgba(60, 64, 67, 0.15);\n",
              "      fill: #174EA6;\n",
              "    }\n",
              "\n",
              "    .colab-df-buttons div {\n",
              "      margin-bottom: 4px;\n",
              "    }\n",
              "\n",
              "    [theme=dark] .colab-df-convert {\n",
              "      background-color: #3B4455;\n",
              "      fill: #D2E3FC;\n",
              "    }\n",
              "\n",
              "    [theme=dark] .colab-df-convert:hover {\n",
              "      background-color: #434B5C;\n",
              "      box-shadow: 0px 1px 3px 1px rgba(0, 0, 0, 0.15);\n",
              "      filter: drop-shadow(0px 1px 2px rgba(0, 0, 0, 0.3));\n",
              "      fill: #FFFFFF;\n",
              "    }\n",
              "  </style>\n",
              "\n",
              "    <script>\n",
              "      const buttonEl =\n",
              "        document.querySelector('#df-68d30927-99d9-4ccb-a1ec-e005820a099a button.colab-df-convert');\n",
              "      buttonEl.style.display =\n",
              "        google.colab.kernel.accessAllowed ? 'block' : 'none';\n",
              "\n",
              "      async function convertToInteractive(key) {\n",
              "        const element = document.querySelector('#df-68d30927-99d9-4ccb-a1ec-e005820a099a');\n",
              "        const dataTable =\n",
              "          await google.colab.kernel.invokeFunction('convertToInteractive',\n",
              "                                                    [key], {});\n",
              "        if (!dataTable) return;\n",
              "\n",
              "        const docLinkHtml = 'Like what you see? Visit the ' +\n",
              "          '<a target=\"_blank\" href=https://colab.research.google.com/notebooks/data_table.ipynb>data table notebook</a>'\n",
              "          + ' to learn more about interactive tables.';\n",
              "        element.innerHTML = '';\n",
              "        dataTable['output_type'] = 'display_data';\n",
              "        await google.colab.output.renderOutput(dataTable, element);\n",
              "        const docLink = document.createElement('div');\n",
              "        docLink.innerHTML = docLinkHtml;\n",
              "        element.appendChild(docLink);\n",
              "      }\n",
              "    </script>\n",
              "  </div>\n",
              "\n",
              "\n",
              "<div id=\"df-a30bd31b-59c7-44e1-8512-5ba339130c38\">\n",
              "  <button class=\"colab-df-quickchart\" onclick=\"quickchart('df-a30bd31b-59c7-44e1-8512-5ba339130c38')\"\n",
              "            title=\"Suggest charts\"\n",
              "            style=\"display:none;\">\n",
              "\n",
              "<svg xmlns=\"http://www.w3.org/2000/svg\" height=\"24px\"viewBox=\"0 0 24 24\"\n",
              "     width=\"24px\">\n",
              "    <g>\n",
              "        <path d=\"M19 3H5c-1.1 0-2 .9-2 2v14c0 1.1.9 2 2 2h14c1.1 0 2-.9 2-2V5c0-1.1-.9-2-2-2zM9 17H7v-7h2v7zm4 0h-2V7h2v10zm4 0h-2v-4h2v4z\"/>\n",
              "    </g>\n",
              "</svg>\n",
              "  </button>\n",
              "\n",
              "<style>\n",
              "  .colab-df-quickchart {\n",
              "      --bg-color: #E8F0FE;\n",
              "      --fill-color: #1967D2;\n",
              "      --hover-bg-color: #E2EBFA;\n",
              "      --hover-fill-color: #174EA6;\n",
              "      --disabled-fill-color: #AAA;\n",
              "      --disabled-bg-color: #DDD;\n",
              "  }\n",
              "\n",
              "  [theme=dark] .colab-df-quickchart {\n",
              "      --bg-color: #3B4455;\n",
              "      --fill-color: #D2E3FC;\n",
              "      --hover-bg-color: #434B5C;\n",
              "      --hover-fill-color: #FFFFFF;\n",
              "      --disabled-bg-color: #3B4455;\n",
              "      --disabled-fill-color: #666;\n",
              "  }\n",
              "\n",
              "  .colab-df-quickchart {\n",
              "    background-color: var(--bg-color);\n",
              "    border: none;\n",
              "    border-radius: 50%;\n",
              "    cursor: pointer;\n",
              "    display: none;\n",
              "    fill: var(--fill-color);\n",
              "    height: 32px;\n",
              "    padding: 0;\n",
              "    width: 32px;\n",
              "  }\n",
              "\n",
              "  .colab-df-quickchart:hover {\n",
              "    background-color: var(--hover-bg-color);\n",
              "    box-shadow: 0 1px 2px rgba(60, 64, 67, 0.3), 0 1px 3px 1px rgba(60, 64, 67, 0.15);\n",
              "    fill: var(--button-hover-fill-color);\n",
              "  }\n",
              "\n",
              "  .colab-df-quickchart-complete:disabled,\n",
              "  .colab-df-quickchart-complete:disabled:hover {\n",
              "    background-color: var(--disabled-bg-color);\n",
              "    fill: var(--disabled-fill-color);\n",
              "    box-shadow: none;\n",
              "  }\n",
              "\n",
              "  .colab-df-spinner {\n",
              "    border: 2px solid var(--fill-color);\n",
              "    border-color: transparent;\n",
              "    border-bottom-color: var(--fill-color);\n",
              "    animation:\n",
              "      spin 1s steps(1) infinite;\n",
              "  }\n",
              "\n",
              "  @keyframes spin {\n",
              "    0% {\n",
              "      border-color: transparent;\n",
              "      border-bottom-color: var(--fill-color);\n",
              "      border-left-color: var(--fill-color);\n",
              "    }\n",
              "    20% {\n",
              "      border-color: transparent;\n",
              "      border-left-color: var(--fill-color);\n",
              "      border-top-color: var(--fill-color);\n",
              "    }\n",
              "    30% {\n",
              "      border-color: transparent;\n",
              "      border-left-color: var(--fill-color);\n",
              "      border-top-color: var(--fill-color);\n",
              "      border-right-color: var(--fill-color);\n",
              "    }\n",
              "    40% {\n",
              "      border-color: transparent;\n",
              "      border-right-color: var(--fill-color);\n",
              "      border-top-color: var(--fill-color);\n",
              "    }\n",
              "    60% {\n",
              "      border-color: transparent;\n",
              "      border-right-color: var(--fill-color);\n",
              "    }\n",
              "    80% {\n",
              "      border-color: transparent;\n",
              "      border-right-color: var(--fill-color);\n",
              "      border-bottom-color: var(--fill-color);\n",
              "    }\n",
              "    90% {\n",
              "      border-color: transparent;\n",
              "      border-bottom-color: var(--fill-color);\n",
              "    }\n",
              "  }\n",
              "</style>\n",
              "\n",
              "  <script>\n",
              "    async function quickchart(key) {\n",
              "      const quickchartButtonEl =\n",
              "        document.querySelector('#' + key + ' button');\n",
              "      quickchartButtonEl.disabled = true;  // To prevent multiple clicks.\n",
              "      quickchartButtonEl.classList.add('colab-df-spinner');\n",
              "      try {\n",
              "        const charts = await google.colab.kernel.invokeFunction(\n",
              "            'suggestCharts', [key], {});\n",
              "      } catch (error) {\n",
              "        console.error('Error during call to suggestCharts:', error);\n",
              "      }\n",
              "      quickchartButtonEl.classList.remove('colab-df-spinner');\n",
              "      quickchartButtonEl.classList.add('colab-df-quickchart-complete');\n",
              "    }\n",
              "    (() => {\n",
              "      let quickchartButtonEl =\n",
              "        document.querySelector('#df-a30bd31b-59c7-44e1-8512-5ba339130c38 button');\n",
              "      quickchartButtonEl.style.display =\n",
              "        google.colab.kernel.accessAllowed ? 'block' : 'none';\n",
              "    })();\n",
              "  </script>\n",
              "</div>\n",
              "    </div>\n",
              "  </div>\n"
            ]
          },
          "metadata": {},
          "execution_count": 4
        }
      ],
      "source": [
        "df.head()"
      ]
    },
    {
      "cell_type": "markdown",
      "id": "aa82e222",
      "metadata": {
        "id": "aa82e222"
      },
      "source": [
        "<h2 align=right style=\"line-height:200%;font-family:vazir;color:#0099cc\">\n",
        "<font face=\"vazir\" color=\"#0099cc\">\n",
        "    قسمت اول\n",
        "    </font>\n",
        "</h2>\n",
        "\n",
        "<p dir=rtl style=\"direction: rtl;text-align: justify;line-height:200%;font-family:vazir;font-size:medium\">\n",
        "<font face=\"vazir\" size=3>\n",
        "    در این شبکه‌ی اجتماعی، ۵ دسته از شاخ‌بودن وجود دارد. برای این‌که عضو هر دسته باشیم، می‌بایست پیج و اسم ما شرایط خاصی داشته باشد.\n",
        "    <br>\n",
        "    اولین دسته‌ از شاخ‌های شاخگرام، شاخ‌های برنجی هستند؛ شاخ‌های برنجی،  افرادی هستند که تعداد افرادی که توسط پیج‌شان دنبال می‌شوند (<code>following</code>) <b>از ۱۱ کمتر</b> باشد.\n",
        "    <br>\n",
        "    در سلول زیر، بخشی از دیتافریم اصلی را که شرایط شاخ‌های برنجی دارند جدا کرده و در متغیر <code>berenji_df</code> ذخیره کنید.\n",
        "</font>\n",
        "</p>"
      ]
    },
    {
      "cell_type": "code",
      "execution_count": 5,
      "id": "f16be0eb",
      "metadata": {
        "id": "f16be0eb"
      },
      "outputs": [],
      "source": [
        "berenji_df = df[df[\"following\"]<10]"
      ]
    },
    {
      "cell_type": "markdown",
      "id": "77416747",
      "metadata": {
        "id": "77416747"
      },
      "source": [
        "<h2 align=right style=\"line-height:200%;font-family:vazir;color:#0099cc\">\n",
        "<font face=\"vazir\" color=\"#0099cc\">\n",
        "    قسمت دوم\n",
        "    </font>\n",
        "</h2>\n",
        "\n",
        "<p dir=rtl style=\"direction: rtl;text-align: justify;line-height:200%;font-family:vazir;font-size:medium\">\n",
        "<font face=\"vazir\" size=3>\n",
        "    در متغیر <code>mesi_df</code>، شاخ‌های مسی را ذخیره کنید؛ شاخ‌های مسی، افرادی هستند که تعداد پست‌های پیج‌شان از تعداد افرادی که آن پیج دنبال‌شان می‌کند (<code>following</code>) بیشتر باشد.\n",
        "</font>\n",
        "</p>"
      ]
    },
    {
      "cell_type": "code",
      "execution_count": 6,
      "id": "51f5a12b",
      "metadata": {
        "id": "51f5a12b"
      },
      "outputs": [],
      "source": [
        "mesi_df = df[df[\"following\"]<df[\"post_number\"]]"
      ]
    },
    {
      "cell_type": "markdown",
      "id": "5bf37fd8-813b-4882-b8ba-b361fdc62f0e",
      "metadata": {
        "id": "5bf37fd8-813b-4882-b8ba-b361fdc62f0e"
      },
      "source": [
        "<h2 align=right style=\"line-height:200%;font-family:vazir;color:#0099cc\">\n",
        "<font face=\"vazir\" color=\"#0099cc\">\n",
        "    قسمت سوم\n",
        "    </font>\n",
        "</h2>\n",
        "\n",
        "<p dir=rtl style=\"direction: rtl;text-align: justify;line-height:200%;font-family:vazir;font-size:medium\">\n",
        "<font face=\"vazir\" size=3>\n",
        "    در متغیر <code>boronzi_df</code>، شاخ‌های برنزی را ذخیره کنید؛\n",
        "    شاخ‌های برنزی، افرادی هستند که تعداد دنبال‌کنندگان (<code>follower</code>) پیج‌شان بیشتر از یک میلیون نفر باشد.\n",
        "</font>\n",
        "</p>"
      ]
    },
    {
      "cell_type": "code",
      "execution_count": 7,
      "id": "76184e27",
      "metadata": {
        "tags": [],
        "id": "76184e27"
      },
      "outputs": [],
      "source": [
        "boronzi_df = df[df[\"follower\"]>1000000]"
      ]
    },
    {
      "cell_type": "markdown",
      "id": "e8ef45c6-0367-4e24-82c0-9ab6b97a34b2",
      "metadata": {
        "id": "e8ef45c6-0367-4e24-82c0-9ab6b97a34b2"
      },
      "source": [
        "<h2 align=right style=\"line-height:200%;font-family:vazir;color:#0099cc\">\n",
        "<font face=\"vazir\" color=\"#0099cc\">\n",
        "    قسمت چهارم\n",
        "    </font>\n",
        "</h2>\n",
        "\n",
        "<p dir=rtl style=\"direction: rtl;text-align: justify;line-height:200%;font-family:vazir;font-size:medium\">\n",
        "<font face=\"vazir\" size=3>\n",
        "    در متغیر <code>noghreyee_df</code>، شاخ‌های نقره‌ای را ذخیره کنید؛ شاخ‌های نقره‌ای،‌ افرادی هستند که دو شرط زیر همزمان برای آن‌ها برقرار باشد:\n",
        "    <ol dir=rtl>\n",
        "        <li>تعداد دنبال‌کنندگان (<code>follower</code>) پیج‌شان بزرگ‌تر یا مساوی ۱۰ میلیون باشد.</li>\n",
        "        <li>تعداد دنبال‌شوندگان توسط پیج (<code>following</code>) کم‌تر از ۵۰ باشد.</li>\n",
        "    </ol>\n",
        "</font>\n",
        "</p>"
      ]
    },
    {
      "cell_type": "code",
      "execution_count": 12,
      "id": "6b8b4f92",
      "metadata": {
        "tags": [],
        "id": "6b8b4f92"
      },
      "outputs": [],
      "source": [
        "noghreyee_df = df[(df[\"follower\"]>=10000000) & (df[\"following\"]<50000)]"
      ]
    },
    {
      "cell_type": "markdown",
      "id": "79b40e28-7007-48b5-95b1-bd8c3e5f05ae",
      "metadata": {
        "id": "79b40e28-7007-48b5-95b1-bd8c3e5f05ae"
      },
      "source": [
        "<h2 align=right style=\"line-height:200%;font-family:vazir;color:#0099cc\">\n",
        "<font face=\"vazir\" color=\"#0099cc\">\n",
        "    قسمت پنجم\n",
        "    </font>\n",
        "</h2>\n",
        "\n",
        "<p dir=rtl style=\"direction: rtl;text-align: justify;line-height:200%;font-family:vazir;font-size:medium\">\n",
        "<font face=\"vazir\" size=3>\n",
        "        در متغیر <code>talayee_df</code>، شاخ‌های طلایی را ذخیره کنید؛\n",
        "شاخ‌های طلایی افرادی هستند که حداقل یکی از دو شرط زیر را داشته باشند (یعنی شرط اول یا شرط دوم)\n",
        "<ol dir=rtl>\n",
        "        <li>تعداد دنبال‌کنندگان (<code>follower</code>) پیج‌شان بزرگ‌تر از ۱۰ میلیون و تعداد دنبال‌شوندگان (<code>following</code>) آن‌ها کمتر از ۲۰ باشد.</li>\n",
        "        <li>تعداد پست‌های‌شان کمتر از ۱۵ باشد و حرف <code>R</code> در اسم صاحب پیج وجود داشته باشد (مثل <code dir=ltr>!BooAzaR</code>).</li>\n",
        "    </ol>\n",
        "</font>\n",
        "</p>"
      ]
    },
    {
      "cell_type": "code",
      "execution_count": 15,
      "id": "099d1ff4",
      "metadata": {
        "id": "099d1ff4"
      },
      "outputs": [],
      "source": [
        "talayee_df = df[((df[\"follower\"]>10000000) & (df[\"following\"]<20000)) | ((df[\"post_number\"]<15) & (df[\"owner_name\"].isin([\"R\"])) )]"
      ]
    },
    {
      "cell_type": "markdown",
      "id": "ad56a791-6354-4597-babf-c9df1c83ca73",
      "metadata": {
        "id": "ad56a791-6354-4597-babf-c9df1c83ca73"
      },
      "source": [
        "<h2 align=right style=\"line-height:200%;font-family:vazir;color:#0099cc\">\n",
        "<font face=\"vazir\" color=\"#0099cc\">\n",
        "<b>سلول جواب‌ساز</b>\n",
        "</font>\n",
        "</h2>\n",
        "\n",
        "\n",
        "<p dir=rtl style=\"direction: rtl; text-align: justify; line-height:200%; font-family:vazir; font-size:medium\">\n",
        "<font face=\"vazir\" size=3>\n",
        "    برای ساخته‌شدن فایل <code>result.zip</code> سلول زیر را اجرا کنید. توجه داشته باشید که پیش از اجرای سلول زیر تغییرات اعمال شده در نت‌بوک را ذخیره کرده باشید (<code>ctrl+s</code>) تا در صورت نیاز به پشتیبانی امکان بررسی کد شما وجود داشته باشد.\n",
        "</font>\n",
        "</p>"
      ]
    },
    {
      "cell_type": "code",
      "source": [
        "%cd /content/drive/MyDrive/shakhgram"
      ],
      "metadata": {
        "id": "T-yzBYBiBu19",
        "outputId": "acfd6212-af78-47a8-ad12-dfd69c4f42c1",
        "colab": {
          "base_uri": "https://localhost:8080/"
        }
      },
      "id": "T-yzBYBiBu19",
      "execution_count": 16,
      "outputs": [
        {
          "output_type": "stream",
          "name": "stdout",
          "text": [
            "/content/drive/MyDrive/shakhgram\n"
          ]
        }
      ]
    },
    {
      "cell_type": "code",
      "execution_count": 17,
      "id": "9b01fa06",
      "metadata": {
        "colab": {
          "base_uri": "https://localhost:8080/",
          "height": 390
        },
        "id": "9b01fa06",
        "outputId": "7d8d4764-c02a-4124-d261-4bf33255a6b7"
      },
      "outputs": [
        {
          "output_type": "stream",
          "name": "stdout",
          "text": [
            "File Paths:\n",
            "['berenji.csv', 'mesi.csv', 'boronzi.csv', 'noghreyee.csv', 'talayee.csv', 'shakhgram.ipynb']\n"
          ]
        },
        {
          "output_type": "error",
          "ename": "FileNotFoundError",
          "evalue": "ignored",
          "traceback": [
            "\u001b[0;31m---------------------------------------------------------------------------\u001b[0m",
            "\u001b[0;31mFileNotFoundError\u001b[0m                         Traceback (most recent call last)",
            "\u001b[0;32m<ipython-input-17-dcb556d231f2>\u001b[0m in \u001b[0;36m<cell line: 20>\u001b[0;34m()\u001b[0m\n\u001b[1;32m     18\u001b[0m file_names = [\"berenji.csv\", \"mesi.csv\", \"boronzi.csv\",\n\u001b[1;32m     19\u001b[0m               \"noghreyee.csv\", \"talayee.csv\", \"shakhgram.ipynb\"]\n\u001b[0;32m---> 20\u001b[0;31m \u001b[0mcompress\u001b[0m\u001b[0;34m(\u001b[0m\u001b[0mfile_names\u001b[0m\u001b[0;34m)\u001b[0m\u001b[0;34m\u001b[0m\u001b[0;34m\u001b[0m\u001b[0m\n\u001b[0m",
            "\u001b[0;32m<ipython-input-17-dcb556d231f2>\u001b[0m in \u001b[0;36mcompress\u001b[0;34m(file_names)\u001b[0m\n\u001b[1;32m     14\u001b[0m     \u001b[0;32mwith\u001b[0m \u001b[0mzipfile\u001b[0m\u001b[0;34m.\u001b[0m\u001b[0mZipFile\u001b[0m\u001b[0;34m(\u001b[0m\u001b[0;34m\"result.zip\"\u001b[0m\u001b[0;34m,\u001b[0m \u001b[0mmode\u001b[0m\u001b[0;34m=\u001b[0m\u001b[0;34m\"w\"\u001b[0m\u001b[0;34m)\u001b[0m \u001b[0;32mas\u001b[0m \u001b[0mzf\u001b[0m\u001b[0;34m:\u001b[0m\u001b[0;34m\u001b[0m\u001b[0;34m\u001b[0m\u001b[0m\n\u001b[1;32m     15\u001b[0m         \u001b[0;32mfor\u001b[0m \u001b[0mfile_name\u001b[0m \u001b[0;32min\u001b[0m \u001b[0mfile_names\u001b[0m\u001b[0;34m:\u001b[0m\u001b[0;34m\u001b[0m\u001b[0;34m\u001b[0m\u001b[0m\n\u001b[0;32m---> 16\u001b[0;31m             \u001b[0mzf\u001b[0m\u001b[0;34m.\u001b[0m\u001b[0mwrite\u001b[0m\u001b[0;34m(\u001b[0m\u001b[0;34m'./'\u001b[0m \u001b[0;34m+\u001b[0m \u001b[0mfile_name\u001b[0m\u001b[0;34m,\u001b[0m \u001b[0mfile_name\u001b[0m\u001b[0;34m,\u001b[0m \u001b[0mcompress_type\u001b[0m\u001b[0;34m=\u001b[0m\u001b[0mcompression\u001b[0m\u001b[0;34m)\u001b[0m\u001b[0;34m\u001b[0m\u001b[0;34m\u001b[0m\u001b[0m\n\u001b[0m\u001b[1;32m     17\u001b[0m \u001b[0;34m\u001b[0m\u001b[0m\n\u001b[1;32m     18\u001b[0m file_names = [\"berenji.csv\", \"mesi.csv\", \"boronzi.csv\",\n",
            "\u001b[0;32m/usr/lib/python3.10/zipfile.py\u001b[0m in \u001b[0;36mwrite\u001b[0;34m(self, filename, arcname, compress_type, compresslevel)\u001b[0m\n\u001b[1;32m   1739\u001b[0m             )\n\u001b[1;32m   1740\u001b[0m \u001b[0;34m\u001b[0m\u001b[0m\n\u001b[0;32m-> 1741\u001b[0;31m         zinfo = ZipInfo.from_file(filename, arcname,\n\u001b[0m\u001b[1;32m   1742\u001b[0m                                   strict_timestamps=self._strict_timestamps)\n\u001b[1;32m   1743\u001b[0m \u001b[0;34m\u001b[0m\u001b[0m\n",
            "\u001b[0;32m/usr/lib/python3.10/zipfile.py\u001b[0m in \u001b[0;36mfrom_file\u001b[0;34m(cls, filename, arcname, strict_timestamps)\u001b[0m\n\u001b[1;32m    502\u001b[0m         \u001b[0;32mif\u001b[0m \u001b[0misinstance\u001b[0m\u001b[0;34m(\u001b[0m\u001b[0mfilename\u001b[0m\u001b[0;34m,\u001b[0m \u001b[0mos\u001b[0m\u001b[0;34m.\u001b[0m\u001b[0mPathLike\u001b[0m\u001b[0;34m)\u001b[0m\u001b[0;34m:\u001b[0m\u001b[0;34m\u001b[0m\u001b[0;34m\u001b[0m\u001b[0m\n\u001b[1;32m    503\u001b[0m             \u001b[0mfilename\u001b[0m \u001b[0;34m=\u001b[0m \u001b[0mos\u001b[0m\u001b[0;34m.\u001b[0m\u001b[0mfspath\u001b[0m\u001b[0;34m(\u001b[0m\u001b[0mfilename\u001b[0m\u001b[0;34m)\u001b[0m\u001b[0;34m\u001b[0m\u001b[0;34m\u001b[0m\u001b[0m\n\u001b[0;32m--> 504\u001b[0;31m         \u001b[0mst\u001b[0m \u001b[0;34m=\u001b[0m \u001b[0mos\u001b[0m\u001b[0;34m.\u001b[0m\u001b[0mstat\u001b[0m\u001b[0;34m(\u001b[0m\u001b[0mfilename\u001b[0m\u001b[0;34m)\u001b[0m\u001b[0;34m\u001b[0m\u001b[0;34m\u001b[0m\u001b[0m\n\u001b[0m\u001b[1;32m    505\u001b[0m         \u001b[0misdir\u001b[0m \u001b[0;34m=\u001b[0m \u001b[0mstat\u001b[0m\u001b[0;34m.\u001b[0m\u001b[0mS_ISDIR\u001b[0m\u001b[0;34m(\u001b[0m\u001b[0mst\u001b[0m\u001b[0;34m.\u001b[0m\u001b[0mst_mode\u001b[0m\u001b[0;34m)\u001b[0m\u001b[0;34m\u001b[0m\u001b[0;34m\u001b[0m\u001b[0m\n\u001b[1;32m    506\u001b[0m         \u001b[0mmtime\u001b[0m \u001b[0;34m=\u001b[0m \u001b[0mtime\u001b[0m\u001b[0;34m.\u001b[0m\u001b[0mlocaltime\u001b[0m\u001b[0;34m(\u001b[0m\u001b[0mst\u001b[0m\u001b[0;34m.\u001b[0m\u001b[0mst_mtime\u001b[0m\u001b[0;34m)\u001b[0m\u001b[0;34m\u001b[0m\u001b[0;34m\u001b[0m\u001b[0m\n",
            "\u001b[0;31mFileNotFoundError\u001b[0m: [Errno 2] No such file or directory: './shakhgram.ipynb'"
          ]
        }
      ],
      "source": [
        "import zlib\n",
        "import zipfile\n",
        "\n",
        "berenji_df.to_csv('berenji.csv', index=True)\n",
        "mesi_df.to_csv('mesi.csv', index=True)\n",
        "boronzi_df.to_csv(\"boronzi.csv\", index=True)\n",
        "noghreyee_df.to_csv(\"noghreyee.csv\", index=True)\n",
        "talayee_df.to_csv(\"talayee.csv\", index=True)\n",
        "\n",
        "def compress(file_names):\n",
        "    print(\"File Paths:\")\n",
        "    print(file_names)\n",
        "    compression = zipfile.ZIP_DEFLATED\n",
        "    with zipfile.ZipFile(\"result.zip\", mode=\"w\") as zf:\n",
        "        for file_name in file_names:\n",
        "            zf.write('./' + file_name, file_name, compress_type=compression)\n",
        "\n",
        "file_names = [\"berenji.csv\", \"mesi.csv\", \"boronzi.csv\",\n",
        "              \"noghreyee.csv\", \"talayee.csv\", \"shakhgram.ipynb\"]\n",
        "compress(file_names)"
      ]
    }
  ],
  "metadata": {
    "kernelspec": {
      "display_name": "Python 3",
      "language": "python",
      "name": "python3"
    },
    "language_info": {
      "codemirror_mode": {
        "name": "ipython",
        "version": 3
      },
      "file_extension": ".py",
      "mimetype": "text/x-python",
      "name": "python",
      "nbconvert_exporter": "python",
      "pygments_lexer": "ipython3",
      "version": "3.8.0"
    },
    "vscode": {
      "interpreter": {
        "hash": "44e7e1b8fa2096bd5707ed7fd18b1724a2db25f4c565a7673f8b6e7bfc49d25d"
      }
    },
    "colab": {
      "provenance": []
    }
  },
  "nbformat": 4,
  "nbformat_minor": 5
}